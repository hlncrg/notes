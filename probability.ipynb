{
 "cells": [
  {
   "cell_type": "markdown",
   "metadata": {},
   "source": [
    "<h1>Probability Fun</h1>\n"
   ]
  },
  {
   "cell_type": "markdown",
   "metadata": {},
   "source": [
    "<p>A deal of hands at bridge is a pack of 52 distributed to four players, each getting 13 cards.\n",
    "How many different deals are there in bridge?</p>\n",
    "\n",
    "<p>Consider only the first player.  The first card dealt to them will be one of 52.  The next card will be\n",
    "one of 51 and so on till 13 cards has been dealt, e.g. $52!/(52-13)!$.  Order of these cards does not matter so\n",
    "further divide this number by $13!$ or ${52 \\choose 13}$.</p>\n",
    "\n",
    "<p>Moving on to the next player, we now have now have $(52-13)$ cards in the deck and we choose another $13$, e.g.\n",
    "${(52-13) \\choose 13}$.  For player three, we have ${(52-2\\times13) \\choose 13}$ ways of dealing the cards and for\n",
    "player four, we have ${(52-3\\times13) \\choose 13}$ ways</p>\n",
    "\n",
    "<p>The total number of deals is \n",
    "${(52) \\choose 13} \\times {(52-13) \\choose 13}\n",
    "\\times {(52-2\\times13) \\choose 13} \\times {(52-3\\times13) \\choose 13}$</p>\n",
    "\n",
    "<p>This is calculated as:</p>"
   ]
  },
  {
   "cell_type": "code",
   "execution_count": 1,
   "metadata": {
    "collapsed": false
   },
   "outputs": [
    {
     "name": "stdout",
     "output_type": "stream",
     "text": [
      "53644737765488792839237440000\n"
     ]
    }
   ],
   "source": [
    "def choose(n, k):\n",
    "\n",
    "    if 0 <= k <= n:\n",
    "        ntok = 1\n",
    "        ktok = 1\n",
    "        for t in xrange(1, min(k, n - k) + 1):\n",
    "            ntok *= n\n",
    "            ktok *= t\n",
    "            n -= 1\n",
    "        return ntok // ktok\n",
    "    else:\n",
    "        return 0\n",
    "    \n",
    "print choose(52,13)*choose(52-13,13)*choose(52-13*2,13)*choose(52-13*3,13)"
   ]
  },
  {
   "cell_type": "markdown",
   "metadata": {},
   "source": [
    "<h3>Comparing Order or unordered with or without replacement </h3>\n",
    "\n",
    "<h4>Ordered with replacement</h4>\n",
    "<h5>Labeled balls 1 to k in n urns</h5>\n",
    "<h6>3 urns and 2 balls: $3^2$</h6>\n",
    "<table style=\"width:100%\">\n",
    "  <tr><th>ball location</th><th># balls in urn</th> </tr>\n",
    "  <tr><td>[1,1]</td><td>[2,0,0]</td></tr>\n",
    "  <tr><td>[1,2]</td><td>[1,1,0]</td></tr>\n",
    "  <tr><td>[1,3]</td><td>[1,0,1]</td></tr>  \n",
    "  <tr><td>[2,1]</td><td>[1,1,0]</td></tr>\n",
    "  <tr><td>[2,2]</td><td>[0,2,0]</td></tr>\n",
    "  <tr><td>[2,3]</td><td>[0,1,1]</td></tr> \n",
    "  <tr><td>[3,1]</td><td>[1,0,1]</td></tr>\n",
    "  <tr><td>[3,2]</td><td>[0,1,1]</td></tr>\n",
    "  <tr><td>[3,3]</td><td>[0,0,2]</td></tr> \n",
    "</table>\n",
    "\n",
    "<h4>Ordered without replacement</h4>\n",
    "<h5>Labeled balls 1 to k in n urns only once</h5>\n",
    "<h6>3 urns and 2 balls: $\\frac{3!}{(3-2)!}$</h6>\n",
    "<table style=\"width:100%\">\n",
    "  <tr><th>ball location</th><th># balls in urn</th> </tr>\n",
    "  <tr><td>[1,1]</td><td>--</td></tr>\n",
    "  <tr><td>[1,2]</td><td>[1,1,0]</td></tr>\n",
    "  <tr><td>[1,3]</td><td>[1,0,1]</td></tr>  \n",
    "  <tr><td>[2,1]</td><td>[1,1,0]</td></tr>\n",
    "  <tr><td>[2,2]</td><td>--</td></tr>\n",
    "  <tr><td>[2,3]</td><td>[0,1,1]</td></tr> \n",
    "  <tr><td>[3,1]</td><td>[1,0,1]</td></tr>\n",
    "  <tr><td>[3,2]</td><td>[0,1,1]</td></tr>\n",
    "  <tr><td>[3,3]</td><td>--</td></tr> \n",
    "</table>\n",
    "\n",
    "\n",
    "<h4>Unordered without replacement</h4>\n",
    "<h5>k indistingushible balls in n urns only once</h5>\n",
    "<h6>3 urns and 2 balls: $\\frac{3!}{(3-2)!2!}$</h6>\n",
    "<table style=\"width:100%\">\n",
    "  <tr><th>ball location</th><th># balls in urn</th> </tr>\n",
    "  <tr><td>[1,1]</td><td>--</td></tr>\n",
    "  <tr><td>[1,2]</td><td>[1,1,0]</td></tr>\n",
    "  <tr><td>[1,3]</td><td>[1,0,1]</td></tr>  \n",
    "  <tr><td>[2,1]</td><td>--</td></tr>\n",
    "  <tr><td>[2,2]</td><td>--</td></tr>\n",
    "  <tr><td>[2,3]</td><td>[0,1,1]</td></tr> \n",
    "  <tr><td>[3,1]</td><td>--</td></tr>\n",
    "  <tr><td>[3,2]</td><td>--</td></tr>\n",
    "  <tr><td>[3,3]</td><td>--</td></tr> \n",
    "</table>\n",
    "\n",
    "<h4>Unordered with replacement</h4>\n",
    "<h5>Labeled balls 1 to k in n urns</h5>\n",
    "<h6>3 urns and 2 balls</h6>\n",
    "<table style=\"width:100%\">\n",
    "  <tr><th>ball location</th><th># balls in urn</th> </tr>\n",
    "  <tr><td>[1,1]</td><td>[2,0,0]</td></tr>\n",
    "  <tr><td>[1,2]</td><td>[1,1,0]</td></tr>\n",
    "  <tr><td>[1,3]</td><td>[1,0,1]</td></tr>  \n",
    "  <tr><td>[2,1]</td><td>--</td></tr>\n",
    "  <tr><td>[2,2]</td><td>[0,2,0]</td></tr>\n",
    "  <tr><td>[2,3]</td><td>[0,1,1]</td></tr> \n",
    "  <tr><td>[3,1]</td><td>--</td></tr>\n",
    "  <tr><td>[3,2]</td><td>--</td></tr>\n",
    "  <tr><td>[3,3]</td><td>[0,0,2]</td></tr> \n",
    "</table>"
   ]
  },
  {
   "cell_type": "markdown",
   "metadata": {},
   "source": [
    "<h2>Combinatorics: Summary</h2>\n",
    "\n",
    "<p>Multinomial theorem: $\\frac{(n_1+n_2+...+n_k)!}{n_1!n_2!\\cdot\\cdot\\cdot n_k!}$</p>\n",
    "<p>n choose k: ${n \\choose k}=\\frac{n!}{(n-k)!k!}$</p>\n",
    "<p>ordered samples with replacement: $n^k$</p>\n",
    "<p>ordered samples without replacement: $\\frac{n!}{(n-k)!}={n \\choose k}\\times k!$</p>\n",
    "<p>unordered samples with replacement: $\\frac{(n-1+k)!}{(n-1)!k!}$</p>\n",
    "<p>unordered samples without replacement: $\\frac{n!}{(n-k)!k!}$</p>\n",
    "<p>n choose k: ${n \\choose k}=\\frac{n!}{(n-k)!k!}$</p>\n"
   ]
  },
  {
   "cell_type": "markdown",
   "metadata": {},
   "source": [
    "<p>pascal's triangle: ${n \\choose k}={n-1 \\choose k-1}+{n-1 \\choose k}$</p>"
   ]
  },
  {
   "cell_type": "markdown",
   "metadata": {},
   "source": [
    "<p>Binomaial: $\\mathrm{Pr}(X=k)={n \\choose k}p^k(1-p)^{n-k}$</p>\n",
    "<p>Binomial: $\\mathrm{Pr}(X=k)=p^k(1-p)^k$ where $k$ is 0 or 1</p>"
   ]
  },
  {
   "cell_type": "markdown",
   "metadata": {},
   "source": [
    "<h4>Chevalier de Mere's Paradox</h4>\n",
    "<p>Which is more probable:</p>\n",
    "<p>At least one 6 in four throws of a dice.</p>\n",
    "<p>At least one double ace in 24 throws of a pair of dice.</p>\n",
    "\n",
    "<p>probability for not a six: $1-\\frac{5^4}{6^4}$</p>\n",
    "<p>probability of not a double six: $1-\\frac{35^{24}}{36^{24}}$</p>"
   ]
  },
  {
   "cell_type": "markdown",
   "metadata": {},
   "source": [
    "<h4>Birthday paradox</h4>\n",
    "\n",
    "<p>$$1-\\frac{\\frac{365!}{(365-n)!}}{356^n}$$</p>"
   ]
  },
  {
   "cell_type": "markdown",
   "metadata": {},
   "source": [
    "<h4>If two balls are randomly placed in three urns, what are the chances the second urn is occupied?</h4>\n",
    "\n",
    "<p>$5/3^2$</p>"
   ]
  },
  {
   "cell_type": "markdown",
   "metadata": {},
   "source": [
    "<p>probability of event A is: $P(A)=\\frac{\\mathrm{cardinality}(A)}{\\mathrm{cardinality}(\\Omega)}$</p>"
   ]
  },
  {
   "cell_type": "markdown",
   "metadata": {},
   "source": [
    "<p>If you have 12 balls and 4 urns, in how many\n",
    "ways can you obtain the occupancy configuration (4,2,0,6)?</p>\n",
    "\n",
    "<p>${12 \\choose 4}{12-4 \\choose 2}{12-4-2 \\choose 0}{12-4-2-0 \\choose 6}$</p>"
   ]
  },
  {
   "cell_type": "markdown",
   "metadata": {},
   "source": [
    "<p>In how many ways can we obtain  a given occupancy\n",
    "configuration $(k_1,k_2,...,k_r)$</p>\n",
    "\n",
    "<p>${n \\choose k_1}{n-k_1 \\choose k_2}{n-k_1-k_2 \\choose k_3} \\cdot \\cdot \\cdot {n-k_1-...-k_{r_1} \\choose k_r}=\\frac{n!}{k_1!k_2!\\cdot \\cdot \\cdot k_r!}$</p>\n",
    "\n",
    "<p>The total number of occupancies is $r^n$</p>"
   ]
  },
  {
   "cell_type": "markdown",
   "metadata": {},
   "source": [
    "<h3>What is the probability of winning on the first throw of craps</h3>\n",
    "\n",
    "\n",
    "<p>You win immediately if you throw 7 or 11.  You lose immediately if you obtain 2, 3, or 12.</p>\n",
    "\n",
    "<p>You throw again if you obtain 4, 5, 6, 8, 9, or 10.  If your second throw is the same as your first throw, you win.  If the throw is a 7, you lose.</p>\n",
    "\n",
    "<p>Probabilities add when mutually exclusive:</p>\n",
    "<p>$P(win)=P(7)+P(11)=\\frac{6}{36}+\\frac{2}{36}=\\frac{2}{9}$</p>\n",
    "<p>$p(lose)=P(2)+P(3)+P(12)=\\frac{1}{36}+\\frac{2}{36}+\\frac{1}{1}=\\frac{1}{9}$</p>\n",
    "<p>$P(continue)=2(\\frac{3}{36}+\\frac{4}{36}+\\frac{5}{36})$</p>"
   ]
  },
  {
   "cell_type": "markdown",
   "metadata": {},
   "source": [
    "<h3>Toss a coin repeatedly until two successive tosses show the same face.  What is the chance that the coin is tossed four or more times?</h3>\n",
    "\n",
    "<p>$P(HH)=P(TT)=\\frac{1}{4}$</p>\n",
    "<p>$P(THH)=P(HTT)=\\frac{1}{8}$</p>\n",
    "<p>$P(HTHH)=P(THTT)=\\frac{1}{16}$</p>\n",
    "<p>$P(THTHH)=P(HTHTT)=\\frac{1}{32}$</p>\n",
    "\n",
    "<p>$P(n\\geq 4 \\mathrm{tosses})=(P(HTHH)+P(THTT))+(P(THTHH)+P(HTHTT))+(P(HTHTHH)+P(THTHTT))+...$<br>\n",
    "$=2(\\frac{1}{16}+\\frac{1}{32}+\\frac{1}{64}+...)\n",
    "=2\\cdot \\frac{1}{16}(1+\\frac{1}{2}+\\frac{1}{4}+\\frac{1}{8}+...)=2 \\cdot \\frac{1}{16} \\cdot \\frac{1}{1-\\frac{1}{2}}=\\frac{1}{4}$\n",
    "</p>\n",
    "\n",
    "<h3>Geometric Series</h3>\n",
    "<p>$\\sum_{k=0}^{\\infty}r^k=\\frac{1}{1-r}$ for $|r|<1$</p>"
   ]
  },
  {
   "cell_type": "markdown",
   "metadata": {},
   "source": [
    "<h3>Sets</h3>\n",
    "<p>a collection of distinct objects</p>\n",
    "<p>use curly brackets: {a,b,c,d,e}</p>\n",
    "<h3>Graphs</h3>\n",
    "<p>edges plus vertices</p>\n",
    "<img src=\"graph3ver.png\">\n"
   ]
  },
  {
   "cell_type": "markdown",
   "metadata": {},
   "source": [
    "<h3>Number systems</h3>\n",
    "<p>binary: {0,1}</p>\n",
    "<p>finite set: {1,2,...,N}; n is an intger $1\\leq n \\leq N$</p>\n",
    "<p>natural numbers: {1,2,3,...}</p>\n",
    "<p>integer: {...-2,-1,0,1,2,...}</p>\n",
    "<p>real numbers: {$-\\infty$,$\\infty$}</p>"
   ]
  },
  {
   "cell_type": "markdown",
   "metadata": {},
   "source": [
    "<h3>Axiomatic theory of probability</h3>\n",
    "<p>Outcomes: sample space, $\\Omega$</p>\n",
    "<p>Events: measurable sets, $\\mathcal{F}$</p>\n",
    "<p>Chance: probability measure, $P$</p>"
   ]
  },
  {
   "cell_type": "markdown",
   "metadata": {},
   "source": [
    "<p>sample points, $\\omega$ are\n",
    "taken from sample space $\\Omega$</p>"
   ]
  },
  {
   "cell_type": "markdown",
   "metadata": {},
   "source": [
    "<h3>Events</h3>\n",
    "<p>a sample set is an event.</p>\n",
    "<p>complements of events are events</p>\n",
    "<p>any finite or countable infinite union of events is an event</p>\n",
    "<p>collection of all events: $\\mathcal{F}$</p>"
   ]
  },
  {
   "cell_type": "markdown",
   "metadata": {},
   "source": [
    "<h3>Language</h3>\n",
    "<p>Events: A, B, ...</p>\n",
    "<p>an event A occurs if the outcome $\\omega$ of the chance experiment is in A</p>\n",
    "<p>THe sample space, $\\Omega$: certain event</p>\n",
    "<p>empty set: $\\emptyset$</p>\n",
    "<p>If A and B are disjoint event, $A\\cap B=\\emptyset$,\n",
    "they are mutally exclusive</p>\n",
    "<p>$A\\cup B$: union, disjunction of events</p>\n",
    "<p>$A\\cap B$: intersection, conjunction of events</p>\n",
    "<p>$A^C$: complment, negation</p>\n",
    "<img src=\"spaceSetEvents.png\">"
   ]
  },
  {
   "cell_type": "markdown",
   "metadata": {},
   "source": [
    "<h3>probability measure $P$</h3>\n",
    "<p>maps events to probability</p>\n",
    "<p>Positivity: $P(A)\\geq 0$</p>\n",
    "<p>Normalisation: $P(\\Omega)=1$</p>\n",
    "<p>Additivity: for pairwise disjoint events $(A_i\\cap A_j=\\emptyset)$:</p>\n",
    "<p>$$P(\\bigcup_j A_j)=\\sum_j P(A_j)$$</p>\n",
    "<p>$$P(A_1 \\cup A_2\\cdot\\cdot\\cdot\\cup A_n \\cup \\cdot\\cdot\\cdot)=P(A_1)+P(A_2)+...+P(A_n)+...$$</p>"
   ]
  },
  {
   "cell_type": "markdown",
   "metadata": {},
   "source": [
    "<h3>Monotonicity</h3>\n",
    "<p>If $A \\subseteq B$, then:</p>\n",
    "<p>$P(B)=P(A\\cup (B \\setminus A))=P(A)+P(B\\setminus A)\\geq PA()$</p>\n",
    "<img src=\"subspace.png\">\n",
    "<p>Every event A is subset of $\\Omega$</p>\n",
    "<p>$0\\leq P(A) \\leq P(\\Omega) = 1$</p>"
   ]
  },
  {
   "cell_type": "markdown",
   "metadata": {},
   "source": [
    "<h3>Boole's inequality</h3>\n",
    "<img src=\"subsetOverlap.png\">\n",
    "<p>$A\\cup B=A\\cup (B\\setminus A)$</p>\n",
    "<p>$P(A\\cup B)=P(A)+P(B\\setminus A)\\leq P(A)+P(B)$</p>\n",
    "<h4>general</h4>\n",
    "<p>$P(A_1\\cup A_2 \\cup...\\cup A_n)\\leq P(A_1)+P(A_2)+...+P(A_n)$</p>"
   ]
  },
  {
   "cell_type": "markdown",
   "metadata": {},
   "source": [
    "<h3>Three Uses of additivity</h3>\n",
    "<p>$P(A\\setminus B)=P(A)-P(A\\cap B)$</p>\n",
    "<p>$P(B\\setminus A)=P(B)-P(B\\cap A)$</p>\n",
    "<p>$P(A\\cup B)=P(A\\setminus B)+P(B\\setminus A)+P(A\\cap B)$</p>"
   ]
  },
  {
   "cell_type": "markdown",
   "metadata": {},
   "source": [
    "<h3>STEPS</h3>\n",
    "<p>$\\Omega$: What are the collection of outcomes?</p>\n",
    "<p>$\\mathcal{F}$: What are the events of interest?</p>\n",
    "<p>P: What are the chances of events?</p>"
   ]
  },
  {
   "cell_type": "markdown",
   "metadata": {},
   "source": [
    "<h3>Probability in discrete space (countable)</h3>\n",
    "<p>If a die is thrown four times, what are the chances that no ace is seen?</p>\n",
    "<p>$\\Omega=\\{1,2,3,4,5,6\\}^4$</p>\n",
    "<p>$A=\\{1,2,3,4,5\\}^4$</p>\n",
    "<p>$P\\{(k_1,k_2,k_3,k_4)\\}=\\frac{1}{card(\\Omega)}=\\frac{1}{6^4}$</p>\n",
    "<p>$P(A)=\\sum_{(k_1,k_2,k_3,k_4)}P\\{(k_1,k_2,k_3,k_4)\\}=\n",
    "\\frac{card(A)}{card(\\Omega)}=\\frac{5^4}{6^4}$</p>"
   ]
  },
  {
   "cell_type": "markdown",
   "metadata": {},
   "source": [
    "<p>First throw of craps: chance of losing</p>\n",
    "<p>$\\Omega=\\{2,3,4,5,6,7,8,9,10,11,12\\}$</p>\n",
    "<p>$A=\\{2,3,12\\}$</p>\n",
    "<p>$P(2)=1/36$,$P(3)=2/36$,$P(12)=1/36$</p>"
   ]
  },
  {
   "cell_type": "markdown",
   "metadata": {},
   "source": [
    "<p>repeat tosses until two successive tosses show same face.  Probability of four or more tosses</p>\n",
    "<p>$\\Omega=\\{HH,TT,THH,HTT,HTHH,THTT,...\\}$</p>\n",
    "<p>$\\Omega={1,-1,2,-2,3,-3,...}$</p>\n",
    "<p>$A=\\bigcup_{|k|\\geq 3}\\{k\\}$</p>\n",
    "<p>$P\\{k\\}=2^{-|k|-1}$<p>\n",
    "<p>$P(A)=\\sum_{k=3} P\\{k\\}=2/2^4(1+1/2+1/2^2+...)=\\frac{2}{2^4}\\frac{1}{1+1/2}$<p>"
   ]
  },
  {
   "cell_type": "code",
   "execution_count": null,
   "metadata": {
    "collapsed": true
   },
   "outputs": [],
   "source": []
  },
  {
   "cell_type": "markdown",
   "metadata": {},
   "source": [
    "<h3>Conditional Probability</h3>\n",
    "<p>A family has 2 children, at least one is a boy.  What are the chances the other child is a boy?</p>\n",
    "<p>$\\Omega=\\{BB,BG,GB,GG\\}$</p>\n",
    "<p>$A=\\{BB\\}$</p>\n",
    "<p>$B=\\{BB,BG,GB\\}$</p>\n",
    "<p>$P(BB)=P(BG)=P(GG)=P(GB)=1/4$</p>\n",
    "<p>$P(A)=P(BB)=1/4$</p>\n",
    "<p>$P(B)=P(BB)+P(BG)+P(GB)=3/4$</p>\n",
    "<p>$P(A\\cap B)/P(B)=\\frac{1/4}{3/4}=1/3$</p>"
   ]
  },
  {
   "cell_type": "markdown",
   "metadata": {},
   "source": [
    "<p>Two dice are thrown.  If the sum is 8, what are the chances that one of the dice is 6?</p>\n",
    "<p>$\\Omega=\\{(i,j): 1\\leq i, j \\leq 6\\}$</p>\n",
    "<p>A=at least one ace={(i,j):i=6 or j=6}={(6,1),(6,2),(6,3),(6,4),(6,5),(6,6),(5,6),(4,6),(3,6),(2,6),(1,6)}</p>\n",
    "<p>B=sum is 8={(i,j):i+j=8}={(6,2),(5,3),(4,4),(3,5),(2,6)}</p>\n",
    "</p>P{(i,j)}=1/36<p>\n",
    "<p>P(A)=11/36</p>\n",
    "<p>P(B)=5/36</p>\n",
    "<img src=\"sum8one6.png\">\n",
    "<p>$P(A\\cap B)/P(B)=\\frac{2/36}{5/36}=2/5$</p>"
   ]
  },
  {
   "cell_type": "markdown",
   "metadata": {},
   "source": [
    "<h3>Defining Conditional Probability</h3>\n",
    "<p>$P(A|B)=\\frac{P(A\\cap B)}{P(B)}$</p>\n",
    "<p>$P(A|B)\\neq P(B|A)$</p>\n",
    "\n",
    "<p>If $P(A|B)=P(B|A)$:\n",
    "$P(A)=P(B)$ or $P(A\\cap B)$</p>"
   ]
  },
  {
   "cell_type": "markdown",
   "metadata": {},
   "source": [
    "<h3>Conditional Example</h3>\n",
    "<p>$\\Omega=\\{1,2,3,4,5,6,7,8,9,10\\}$</p>\n",
    "<p>P{i}=1/10</p>\n",
    "<p>Events</p>\n",
    "<p>A={2,3,4,5,6}</p>\n",
    "<p>B={4,5,6,7,8,9},C={2,4,6,8,10},D={1,7,8,9}</p>\n",
    "<p>Evaluate</p>\n",
    "<p>P(A|B): 3/6=1/2</p>\n",
    "<p>P(A|C): 3/5</p>\n",
    "<p>P(A|D): 0</p>\n",
    "<p>$P(A|B\\cap C)$: $B\\cap C=\\{4,6,8\\}$, 2/3</p>"
   ]
  },
  {
   "cell_type": "markdown",
   "metadata": {},
   "source": [
    "<h4>Simpson's Paradox: Gender bias in graduate admissions</h4>\n",
    "<img src=\"genderTable.png\">\n",
    "<p>Women are more likely to be admitted to a given department.</p>\n",
    "<p>Men are more likely to be admitted to the school over all.</p>\n",
    "<p>Women are more likely to apply to a selective department.</p>\n",
    "<h5>Example</h5>\n",
    "<p>Sample space: 440 applicants: 220 men, 220 women</p>\n",
    "<p>combinatorial setting: randomly selected</p>\n",
    "<p>A=applicant is admitted, $A^c=$applicant is rejected</p>\n",
    "<p>W=applicant is woman; $W^c=$applicant is man</p>\n",
    "<p>S=applicant applied to Social Warfare; $S^c=$applicant applied to Machismatics</p>\n",
    "<h6>department admissions</h6>\n",
    "<p>$P(A|W\\cap S)< P(A|W^c\\cap S)$</p>\n",
    "<p>$P(A|W\\cap S^c)< P(A|W^c\\cap S^c)$</p>\n",
    "<h6>Cumulative admissions</h6>\n",
    "<p>$P(A|W)<P(A|W^c)$</p>\n",
    "<h6>Conditioning can effect probabilities in unexpected ways</h6>"
   ]
  },
  {
   "cell_type": "markdown",
   "metadata": {},
   "source": [
    "<h3>intersections, chain rule</h3>\n",
    "<p>$P(A\\cap B)=P(A|B)P(B)$</p>\n",
    "<p>$P(A_1\\cap A_2 \\cap ...\\cap A_n)=P(A_1 | A_2 \\cap ...\\cap A_n)P(A_2|A_3 \\cap ...\\cap A_n)...P(A_{n-1}|A_n)P(A_n)$</p>"
   ]
  },
  {
   "cell_type": "markdown",
   "metadata": {},
   "source": [
    "<h3>Aces in bridge</h3>\n",
    "<p>$\\Omega$=all permutations of 52 cards</p>\n",
    "<p>Probability measure: equally likely permutations, $P=(13!)^4/52!$</p>\n",
    "<p>Events</p>\n",
    "<p>$A_1$: ace of spades goes to a player</p>\n",
    "<p>$A_{12}$: aces of spades, hearts goes to different players</p>\n",
    "<p>$A_{123}$: aces of spades, hearts, diamonds goes to different players</p>\n",
    "<p>$A_{1234}$: aces of spades, hearts, diamonds, clubs goes to different players</p>\n",
    "<p>$P(A_{1234})=P(A_{1234}\\cap A_{123}\\cap A_{12} \\cap A_1)$<\\p>\n",
    "<p>$=P(A_{1234}| A_{123}\\cap A_{12} \\cap A_1)\\times P(A_{123}| A_{12} \\cap A_1)\\times P(A_{12} | A_1)$</p>\n",
    "<p>$=P(A_{1234}| A_{123})\\times P(A_{123}| A_{12} )\\times P(A_{12} | A_1)$</p>\n",
    "<p>$=\\frac{13}{49}\\times\\frac{26}{50}\\times\\frac{39}{51}\\times\\frac{52}{52}$</p>"
   ]
  },
  {
   "cell_type": "markdown",
   "metadata": {},
   "source": [
    "<h3>Conditional probability and Additivity</h3>\n",
    "<p>$H=(H\\cap A)\\cup (H\\cap A^c)$</p>\n",
    "<p>$P(H)=P(H\\cap A)+P(H\\cap A^c)=P(H|A)P(A)+P(H|A^c)P(A^c)$</p>"
   ]
  },
  {
   "cell_type": "markdown",
   "metadata": {},
   "source": [
    "<h4>two dice</h4>\n",
    "<p>one die has 5 red faces and 1 white face.  The other has 5 white faces and 1 red face.</p>\n",
    "<p>die is chosen at random</p>\n",
    "<p>What is the chance that the second throw is red given that the first throw is red?</p>\n",
    "<p>$\\Omega$=(coin toss,first face,second face)</p>\n",
    "<p>events:</p>\n",
    "<p>R1=first throw is red</p>\n",
    "<p>R2=second throw is red</p>\n",
    "<p>A=first die is chosen</p>\n",
    "<p>$A^c$=second die is chosen</p>\n",
    "<p>probability</p>\n",
    "<p>$P(A)=P(A^c)=1/2$</p>\n",
    "<p>$P(R_1|A)=5/6$</p>\n",
    "<p>$P(R_1^c|A^c)=5/6$</p>\n",
    "<p>$P(R_1^c|A)=1/6$</p>\n",
    "<p>$P(R_1|A^c)=1/6$</p>\n",
    "<p>probability of second red given first red:</p>\n",
    "<p>$P(R_1\\cap R_2|A)=5^2/6^2$</p>\n",
    "<p>$P(R_1\\cap R_2|A^c)=1^2/6^2$</p>\n",
    "<p>probability of first is red:</p>\n",
    "<p>$P(R1)=P(R1|A)P(A)+P(R1|A^c)P(A^c)=\\frac{5}{6}\\frac{1}{2}+\\frac{1}{6}\\frac{1}{2}=\\frac{1}{2}$</p>\n",
    "<p>what are chances that both throws are red?</p>\n",
    "<p>$P(R1\\cap R2)=P(R1\\cap R2|A)P(A)+P(R1\\cap R2|A^c)P(A^c)=\\frac{25}{36}\\frac{1}{2}+\\frac{1}{36}\\frac{1}{2}$</p>\n",
    "<p>finally, the probability of the second is red given the first is red:<p>\n",
    "<p>$P(R2|R1)=\\frac{P(R1\\cap R2)}{P(R1)}=13/18$</p>"
   ]
  },
  {
   "cell_type": "markdown",
   "metadata": {},
   "source": [
    "<h4>Mass function for first die selected, first throw red and second throw red:</h4>\n",
    "<p>$P\\{1;R,R\\}=P(A\\cap R1\\cap R2)=P(R1\\cap R2|A)P(A)=25/36\\times1/2$</p>\n",
    "<h4>how about for the second die and first red and second white:</h4>\n",
    "<p>$P\\{2;R,W\\}=P(A^c\\cap R1\\cap R2^c)=P(R1\\cap R2^c|A^c)P(A^c)=1\\cdot5/36\\times1/2$</p>\n"
   ]
  },
  {
   "cell_type": "markdown",
   "metadata": {},
   "source": [
    "<h3>Ballot problem</h3>\n",
    "<p>In a run-off election between two people, Jane gets 6 votes and Bob gets 4 votes.  The ballots are counted in random.  What is the chance that Jane leads Bob at every step of the count?</p>\n",
    "\n",
    "<img src=\"bobJane.png\">\n",
    "<p>$\\Omega$: all sequences of n Js and m Bs</p>\n",
    "<p>P: combinatorial, all equal</p>\n",
    "<p>Events</p>\n",
    "<p>H=Jane leads at each step of count</p>\n",
    "<p>A=Jane gets the last ballot</p>\n",
    "<p>$A^c$=Bob gets the last ballot</p>\n",
    "<p>$P(H)=P_{n,m}$,$P(H|A)=P_{n-1,m}$,$P(H|A^c)=P_{n,m-1}$</p>"
   ]
  },
  {
   "cell_type": "markdown",
   "metadata": {},
   "source": [
    "<h3>Independent events</h3>\n",
    "<p>A and B are independent if and only if:</p>\n",
    "<p>$P(A\\cap B)=P(A)P(B)$</p>\n",
    "\n",
    "<p>from chain of events: $P(A\\cap B)=P(A|B)P(B)$<p>\n",
    "<p>if independent: $P(A|B)=P(A)$</p>\n",
    "\n",
    "<h4>The complement</h4>\n",
    "<p>$P(A)=P(A\\cap B)+P(A\\cap B^c)$</p>\n",
    "<p>$P(A\\cap B^c)=P(A)-P(A)P(B)=P(A)P(B^c)$</p>\n",
    "<p>Each implies the other three\n",
    "<ul>\n",
    "<li>A and B are independent</li>\n",
    "<li>A and $B^c$ are independent</li>\n",
    "<li>$A^c$ and B are independent</li>\n",
    "<li>$A^c$ and $B^c$ are independent</li>\n",
    "\n",
    "</ul></p>"
   ]
  },
  {
   "cell_type": "markdown",
   "metadata": {},
   "source": [
    "<p>Bayes: $P(A|B)=P(A)P(B|A)/P(B)$</p>\n",
    "<p>$P(A)$: Prior</p>\n",
    "<p>$P(A|B)$: Posterior</p>\n",
    "<p>$P(B|A)$: Likelihood</p>\n",
    "<p>Conjugate prior: posterior is same family of distribution as prior</p>"
   ]
  },
  {
   "cell_type": "markdown",
   "metadata": {},
   "source": [
    "<h1>Practice Questions</h1>\n",
    "<h2>Expected Value, Variance and Covariance</h2>\n",
    "\n",
    "<h3>Connecting Noodles</h3>\n",
    "<p>You have 100 noodles in a soup bowl.  Being blindfolded, you are told to take two ends of some noodles in the bowl and connect them.  Continue until all ends are tied.  Calculate expected number of circles</p>\n",
    "<p>For only one noodle: $E[f(1)]=1$</p>\n",
    "<p><h4>For 2 noodles:</h4>\n",
    "There are two ways of starting the loops.  If the new noodle is attached to itself, then the number of loops is $E[f(1)]+1$.  There is only one way of doing this.  If the new noodle is attached to the other noodle, the expected number of loops is $E[f(1)]$ but there are 2 ways of attaching the noodle.  The total expected number of loops is $2/3\\cdot E[f(1)]+1/3 \\cdot (E[f(1)]+1)$</p>\n",
    "<p><h4>For n noodles:</h4>\n",
    "There are still two ways of starting the loops.  If the new noodle is attached to itself, then the number of loops is $E[f(n-1)]+1$.  If the new noodle is attached to another noodle, the expected number of loops is $E[f(1)]$ and there are $2(n-1)$ ways of doing this.  The total expected number of noodles is $E[f(n)]=(E[f(n-1)]+1)/(2(n-1)+1)+2(n-1)E[f(n-1)]/(2(n-1)+1)=E[f(n-1)]+1/(2n-1)$: $$E[f(n)]=\\sum_{n=1}^{n+1}\\frac{1}{2n-1}$$\n",
    "</p>"
   ]
  },
  {
   "cell_type": "markdown",
   "metadata": {
    "collapsed": true
   },
   "source": [
    "<h2>Statistical Inference</h2>\n",
    "<h3>Disease Diagnosis</h3>\n",
    "<p>A disease affects 1% of the population.  For a\n",
    "test, 99% of the sick patients test positive and 99% of the\n",
    "healthy patients test negative.  Given that a patient\n",
    "tests positive what is the probability that they are sick?</p>\n",
    "\n",
    "<p>What we are given:</p>\n",
    "<p>$P(S)=.01$, $P(S^c)=.99$, $P(+|S)=.99$, $P(+^c|S^c)=.99$, $P(+|S^c)=.01$<p>\n",
    "<p>$P(S|+)=P(S)P(+|S)/P(+)=\\frac{P(S)P(+|S)}{P(+|S)P(S)+P(+|S^c)P(S^c)}$<p>\n",
    "<p>$=\\frac{.01\\cdot.99}{.99\\cdot.01+.01\\cdot .99}=1/2$</p>\n"
   ]
  },
  {
   "cell_type": "markdown",
   "metadata": {},
   "source": [
    "<h3>Is This Coin Unfair?</h3>\n",
    "<p>Given a coin, 6 times you get 1 tail and 5 times you get heads, is this coin fair?</p>\n",
    "\n",
    "<p>Our null hypothesis is $p_0=1/2$.  Our sample is \\hat{p}=1/6. </p>\n",
    "<p>$s^2=\\frac{1}{6-1}((1-1/6)^2+5(0-1/6)^2)=1/6$</p>\n",
    "<p>the t statistic is $t=\\frac{\\hat{p}-p_0}{s/\\sqrt{n}}=(1/6-1/2)/\\sqrt{1/6\\cdot1/6}=-2$</p>\n",
    "<p>For a .95 confidence interval and with 5 degrees of freedom, $\\alpha=2.0150$ and we can not reject the null hypothesis.</p>"
   ]
  },
  {
   "cell_type": "markdown",
   "metadata": {},
   "source": [
    "<h3>Yes, It is raining</h3>\n",
    "<p>You want to know if it is raining in Seattle.  You call 3 friends and ask if it is raining.  Each has a 2/3 chance of telling the truth.  All three say it is raining.  What is the chances that it is raining in Seattle?</p>\n",
    "<p>We want $P(R|3Y)=\\frac{P(3Y|R)P(R)}{(P(3Y|R)P(R)+P(3Y|R^c)P(R^c)}$</p>\n",
    "<p>We are given: $P(3Y|R)=(2/3)^3$, $P(3Y|R^c)=(1/3)^3$.  We need an assumption for the probability of rain.  Let's assume $P(R)=1/4$</p>\n",
    "<p>Plugging in: $P(R|3Y)=\\frac{(2/3)^3\\cdot 1/4}{(2/3)^3\\cdot 1/4 + (1/3)^3\\cdot 3/4}=\\frac{2\\cdot2\\cdot2\\cdot}{11}=8/11$</p>"
   ]
  },
  {
   "cell_type": "markdown",
   "metadata": {},
   "source": [
    "<h2>Probability Theory</h2>\n",
    "<h3>Coin Flipping</h3>\n",
    "<p>If you keep throwing a fair coin, how many flips do you need for two consecutive flips?</p>\n",
    "\n",
    "<p>The probability of HH or TT (two flips) is $2\\times(1/2)^2$</p>\n",
    "<p>The probability of THH or HTT (3 flips) is $2\\times(1/2)^3$</p>\n",
    "<p>The probability after n flips is $2\\times(1/2)^n$</p>\n",
    "<p>E[n]=$\\sum_{n=2}^\\infty \\frac{2\\times n}{2^n}$</p>\n",
    "<p>By differentiating the geometric series: $\\sum^\\infty_{n=1} nx^{n-1}=1/(1-x)^2$ or $\\sum^\\infty_{n=2} nx^{n-1}=1/(1-x)^2-1$</p>\n",
    "<p>$E[n]=1/(1-1/2)^2-1=3$</p>"
   ]
  },
  {
   "cell_type": "markdown",
   "metadata": {},
   "source": [
    "<h3>Biased Coin</h3>\n",
    "<p>Given 10 coins with one being biased and 9 fair, one is randomly choosen and flipped.  The observed sequence is HHT.  What is the probability the coin is biased?</p>\n",
    "<p>we want $P(B|HHT)=\\frac{P(B)P(HHT|B)}{P(HHT|B)P(B)+P(HHT|B^c)P(B^c)}$</p>\n",
    "<p>we are given $P(B)=1/10$, $P(B^c)=9/10$, $P(HHT|B)=pp(1-p)$, $P(HHT|B^c)=(1/2)^3$</p>\n",
    "<p>Plugging in we get: $P(B|HHT)=\\frac{1/10pp(1-p)}{1/10pp(1-p)+9/10\\cdot(1/2)^3}$</p>"
   ]
  },
  {
   "cell_type": "markdown",
   "metadata": {},
   "source": [
    "<h3>Fair results from a biased coin</h3>\n",
    "<p>How can you use a biased coin to get a fair coin?</p>\n",
    "<p>Assume that the coin has a probability of p to show H.  \n",
    "The probability of $P(HT)=(1-p)p$ and $P(HT)=p(1-p)$.  There for, you can use pairs of flips as a new head and tails.  Discard all other combinations (HH and TT).</p>"
   ]
  },
  {
   "cell_type": "markdown",
   "metadata": {},
   "source": [
    "<h3>Dice payout</h3>\n",
    "<p>You roll a dice three times.  You are rewarded x dollars where x is your highest roll.  What is the expected pay out?</p>\n",
    "\n",
    "<p>We need to calculate the probability of getting all out comes as the highest roll.</p>\n",
    "\n",
    "<p>$P(\\{1,1,1\\})=1/6^3$</p>\n",
    "\n",
    "<p>$P(\\{1,1,2\\},\\{1,2,2\\},\\{2,2,2\\})\n",
    "=(2\\times\\frac{3!}{2!}+1)/6^3\n",
    "=7/6^3$</p>\n",
    "\n",
    "<p>$P(\\{x,x,3\\},\\{x,y,3\\},\\{x,3,3\\}+\\{3,3,3\\})\n",
    "=(3\\times\\frac{3!}{2!}+{3\\choose 2}\\times 3!+3\\times\\frac{3!}{2!}+1)/6^3\n",
    "=19/6^3$</p>\n",
    "\n",
    "<p>$P(\\{x,x,4\\},\\{x,y,4\\},\\{x,4,4\\}+\\{4,4,4\\})\n",
    "=(4\\times\\frac{3!}{2!}+{4\\choose 2}\\times 3!+4\\times\\frac{3!}{2!}+1)/6^3\n",
    "=37/6^3$</p>\n",
    "\n",
    "<p>$P(\\{x,x,5\\},\\{x,y,5\\},\\{x,5,5\\}+\\{5,5,5\\})\n",
    "=(5\\times\\frac{3!}{2!}+{5\\choose 2}\\times 3!+5\\times\\frac{3!}{2!}+1)/6^3\n",
    "=61/6^3$</p>\n",
    "\n",
    "<p>$P(\\{x,x,6\\},\\{x,y,6\\},\\{x,6,6\\}+\\{6,6,6\\})\n",
    "=(6\\times\\frac{3!}{2!}+{6\\choose 2}\\times 3!+6\\times\\frac{3!}{2!}+1)/6^3\n",
    "=91/6^3$</p>\n",
    "\n",
    "<p>$E[x]=(1+7*2+19*3+37*4+61*5+91*6)/6^3=119/24\\approx 4.96$</p>"
   ]
  },
  {
   "cell_type": "markdown",
   "metadata": {},
   "source": [
    "<h3>Finding Tesla</h3>\n",
    "<p>There is a 64% chance of observing at least one Tesla in an hour.  What is the probability of observing at least one Tesla in a half hour.</p>\n",
    "\n",
    "<p>$P(T|1)=.64$; $P(T|.5)=$?</p>\n",
    "<p>$P(T^c|1)=1-.64$; $P(T^c|.5)=\\sqrt{1-.64}$</p>\n",
    "<p>$P(T|.5)=1-\\sqrt{1-.64}=40\\%$</p>"
   ]
  },
  {
   "cell_type": "markdown",
   "metadata": {},
   "source": [
    "<h3>Mark Balls</h3>\n",
    "<p>There are 100 balls labeled 1 to 100.  Randomly choose a ball.  If it has a star put it back.  If it does not, put a star on it.</p>\n",
    "<h4>After repeating 100 times, what is the probability ball 1 does not have a star?</h4>\n",
    "\n",
    "<p>The probability of choosing ball 1 on a single go is 1/100.  The probability of not choosing ball 1 is 99/100.  The probability of this happening 100 times is $(99/100)^{100}\\approx 0.366$</p>\n",
    "<h4>What number of times do you repeat the process to mark all balls?</h4>\n",
    "<p>$X_i=Y_{i+1}-Y_i$ is the number of balls one must choose before the number of unique balls increases from i to i+1.  For the first ball, $Y_1=1$ since we will see a unique ball on the first try.</p>\n",
    "\n",
    "<p>For the second ball, $Y_2=X_1+1$.  For the third ball, $Y_3=X_2+Y_2=X_2+X_1+1$.  For the 100th ball, $Y_100=\\sum_{n=0}^100 X_i$</p>\n",
    "\n",
    "<p>The probability to see a second unique ball is 99/100.  The number of times one need to look at the balls to see the second ball is then $1\\times99/100+2\\times(99/100)(1/100)+3\\times(99/100)(1/100)^2+...$\n",
    "$=\\sum_{n=1}^\\infty n(99/100)(1/100)^{n-1}$.   From differentiating the geometric series, we know $\\sum_{n=1}^\\infty n(x)^{n-1}=1/(1-x)^2$.  So the expected number of trials for the second ball is $\\sum_{k=1}^\\infty k(1-p)^{k-1}p=p/(1-(1-p))^2=1/p$ or 100/99 for our case.</p>\n",
    "\n",
    "<p>Similarly, the number of times till we see the third unique ball is 100/98.</p>\n",
    "\n",
    "<p>The expected number of times to see all of the balls is then $100/100+100/99+100/98+...=\\sum_{n=1}^N \\frac{N}{N-n+1}$</p>"
   ]
  },
  {
   "cell_type": "code",
   "execution_count": 6,
   "metadata": {
    "collapsed": false
   },
   "outputs": [
    {
     "name": "stdout",
     "output_type": "stream",
     "text": [
      "518.737751764\n"
     ]
    }
   ],
   "source": [
    "tot=0\n",
    "for i in range(100):\n",
    "    tot+=100.0/float(100.0-i)\n",
    "print tot"
   ]
  },
  {
   "cell_type": "markdown",
   "metadata": {},
   "source": [
    "<h3>Playoff Games</h3>\n",
    "<h4>There are two teams, A and B.  The probability of A winning is p.  The series ends after 4 games if one team wins all four games. What is the probability of a 7-game series?</h4>\n",
    "\n",
    "\n",
    "<p>The final game does not matter.  We need both teams to win 3 games each.  There are ${6 \\choose 3}$ ways for the games to happen (e.g. AAABBB, ABABAB,...). The probability of any one of these combinations is $p^3(1-p)^3$.  So the total probability is $20\\times p^3(1-p)^3$.</p>\n",
    "\n",
    "\n",
    "<h4>What p maximizes the probabity of a 7 game series?</h4>\n",
    "\n",
    "<p>$\\frac{d}{dp}(p^3(1-p)^3)=3p^2\\times(1-p)^3+\\times 3p^2(1-p)^2(-1)=0$</p>\n",
    "<p>$1-p=p$</p>\n",
    "<p>$p=1/2$</p>"
   ]
  },
  {
   "cell_type": "markdown",
   "metadata": {},
   "source": [
    "<h3>Rolling a Four</h3>\n",
    "<h4>What is the probability of rolling a 4 with 2 dice?</h4>\n",
    "<p>The combinations are 1,3; 3,1; 2,2: 3/36=1/12</p>\n",
    "<h4>What is the probability of rolling at least one 4 out of 2 dice?</h4>\n",
    "<p>The probability of not rolling a 4 is 5*5/36.  The probability of rolling at least one 4 is (36-25)/36=11/36</p>"
   ]
  },
  {
   "cell_type": "markdown",
   "metadata": {},
   "source": [
    "<h3>Broken Computers</h3>\n",
    "<p>4 out of 20 computers are broken.  12 are chosen from the 20.  What is the probability of getting at least 3 broken computers?</p>\n",
    "\n",
    "<p>How many ways can you get 3 broken computers: ${4 \\choose 3}{20-4 \\choose 12-3}=45760$</p>\n",
    "<p>How many ways can you get 4 broken computers: ${4 \\choose 4}{20-4 \\choose 12-4}=24310$</p>\n",
    "<p>$P=\\frac{45760+24310}{{20 \\choose 12}}=.556$</p>"
   ]
  },
  {
   "cell_type": "markdown",
   "metadata": {},
   "source": [
    "<h3>Ant Collisions</h3>\n",
    "<h4>Three ants sit on three corners of a triangle.  Each chooses a direction randomly.  What is the probability that they will not collide?</h4>\n",
    "<p>There are 2 ways that the ants can all go in the same direction.  There are a total of $(2)^3$ ways that they could go.  $P=2/(2)^3=1/4$</p>\n",
    "\n",
    "<h4>k ants are sitting on k corners of a polygon.  Each chooses a random direction.  What is the probability that they will not collide?</h4>\n",
    "\n",
    "<p>There are still 2 ways that the ants can all go in the same direction.  There are a total of $(2)^k$ ways they could go.\n",
    "$P=2/(2)^k$</p>"
   ]
  },
  {
   "cell_type": "markdown",
   "metadata": {},
   "source": [
    "<h3>American Family</h3>\n",
    "<p>Let X be the number of children in an ordinary American family.  Let $Pr(X=i)=p_i$ for i=1,2,3,4 and Pr(X>4)=0.  What is the probability of at least two girls in a family.</p>\n",
    "<p>What is the probability of two or more girls given 2 children: $1/4p_2$</p>\n",
    "<p>What is the probability of two or more girls given 3 children: $\\frac{{3\\choose2}+{3\\choose3}}{2{3\\choose2}+2{3\\choose3}}p_3=1/2p_3$</p>\n",
    "<p>What is the probability of two or more girls given 4 children: $\\frac{{4\\choose2}+{4\\choose3}+{4\\choose4}}{{4\\choose2}+2{4\\choose3}+2{4\\choose4}}p_4=11/16p_4$</p>\n",
    "<p>Prob of at least two girls: $1/4p_2+1/2p_3+11/16p_4$</p>"
   ]
  },
  {
   "cell_type": "markdown",
   "metadata": {},
   "source": [
    "<h3>Basketball Hoops</h3>\n",
    "<p>You have a basketball hoop, and you can play one of two games: You get one shot to make the hoop or you have three shots to make two hoops.  If p is the probability of making a particular shot, for which value of p should you pick one game over the other?</p>\n",
    "\n",
    "<p>The chances of makeing one hoop out of one shot is p.</p>\n",
    "<p>The chance of making two hoops out of three is \n",
    "${3\\choose 2}p^2(1-p)+p^3=3p^2-2p^3$.</p>\n",
    "\n",
    "<p>$p>3p^2-2p^3$ when $0<2p-1$ or $p>1/2$.</p>"
   ]
  },
  {
   "cell_type": "markdown",
   "metadata": {
    "collapsed": true
   },
   "source": [
    "<h3>Two gambler are playing a coin toss game. Gambler A has (n+1) fair coins; B has n fair coins.  What is the probability that A will have more heads than B if both flip all their coins?</h3>\n",
    "\n",
    "<p>First we consider the situation with n coins each.  There are three outcomes:\n",
    "<ul>\n",
    "<li>E1: A has more heads than B</li>\n",
    "<li>E2: B has more heads than A</li>\n",
    "<li>E3: A and B have same number of heads</li>\n",
    "</ul>\n",
    "We know $P(E1)=P(E2)$ and $P(E1)+P(E2)+P(E3)=1$.\n",
    "</p>\n",
    "\n",
    "<p>We now can tackle the original problem.  We know if E1 occurs then A will always have more heads than B.\n",
    "For E2, B will always have more heads no matter what the n+1 coin shows.</p>\n",
    "\n",
    "<p>With 1/2 chance, A will have more heads than B if E3 happens.  The probaility that A has more heads is $P(E1)+1/2P(E3)=P(E1)+1/2(1-2P(E1))=1/2$</p>\n"
   ]
  },
  {
   "cell_type": "markdown",
   "metadata": {},
   "source": [
    "<h3>You pick up a card from a deck of 52.  The deal also picks a card.  If your card is larger, you win.  What is the probability of winning?</h3>\n",
    "\n",
    "<p>There are three possible outcomes:\n",
    "<ul>\n",
    "<li>E1: Player is greater than dealer</li>\n",
    "<li>E2: Dealer is greater than player</li>\n",
    "<li>E3: The cards are equal</li>\n",
    "</ul>\n",
    "\n",
    "The probability that the cards are equal is 3/51.  Also $2P(E1)+P(E3)=1$ so $P(E1)=(1-3/51)/2=24/51=8/17$\n",
    "</p>"
   ]
  },
  {
   "cell_type": "markdown",
   "metadata": {},
   "source": [
    "<h3>100 passenger in order are boarding a plane.  Passenger 1 is drunk and randomly takes a seat.  If the seat of a passenger is taken, they will sit in a random seat.  You are passenger 100.  What is the probability that you will get your seat?</h3>\n",
    "\n",
    "<p>There are two possible outcomes.\n",
    "<ul>\n",
    "<li>E1: Someone sits in seat 1</li>\n",
    "<li>E2: Someone sits in seat 100</li>\n",
    "</ul>\n",
    "Since each one of these event are equally likely, the probabibilty of getting seat 1 is 50%\n",
    "</p>"
   ]
  },
  {
   "cell_type": "markdown",
   "metadata": {},
   "source": [
    "<h3>Multiarm Bandit</h3>\n",
    "<p>We have many bandits.  We sample a few of them.  What to find place of maximum profit.  If half the machines pay out 30% percent of the time and half pay out 20% of the time, how do you maximize profit?</p>\n",
    "\n",
    "<p>We are given the following: $P(P|A)=0.3$ and $P(P|B)=0.2$  Also We have Bayes equations: $P(A|E)=\\frac{P(A)P(E|A)}{P(A)P(E|A)+P(B)P(E|B)}$.</p>\n",
    "\n",
    "<p>If the first play you do not get a payoff, the probability of the machine being type A is $\\frac{0.5\\cdot0.7}{0.5\\cdot0.7+0.5\\cdot0.8}=0.467$ so you may as well move to another machine since the chance of a random machine being type A is 0.5.</p>\n",
    "\n",
    "<p>If the machine pays off 1 out of 4 times, the probability of being type A is $\\frac{0.5\\cdot0.3\\cdot0.7^3}{0.5\\cdot0.3\\cdot0.7^3+0.5\\cdot0.2\\cdot0.3^3}=0.501$.  If the machine pays off 2 out of 8 times, the probability of being type A is $\\frac{0.5\\cdot0.3^2\\cdot0.7^6}{0.5\\cdot0.3^2\\cdot0.7^6+0.5\\cdot0.2^2\\cdot0.3^6}=.502$.</p>\n",
    "\n",
    "<p>Roughly, if the ratio of payoff to no payoff is greater than 1 to 3, we should move to another machine.</p>"
   ]
  },
  {
   "cell_type": "markdown",
   "metadata": {},
   "source": [
    "<h3>Given N points randomly dropped on the circumference of a circle, what is the probability that they are all in a semicircle?</h3>\n",
    "\n",
    "<p>If the semicircle if defined before hand, the probability of all the points being on one side is $(1/2)^N$.  To be on either side is $2(1/2)^N$.  There are N different ways of defining the semicircle so the probability is $2N(1/2)^N$</p>"
   ]
  },
  {
   "cell_type": "markdown",
   "metadata": {
    "collapsed": true
   },
   "source": [
    "<h3>A rabbit is at the bottom of a staircase with n stairs.  How many different ways can the rabbit ascend to the top?</h3>\n",
    "\n",
    "<p>If there is one stair there is one way to get to the top.  If there are two stairs, there are 2 ways to get to the top (1,1) and (2).  If there are three stairs, there are 2+1 ways to get to the top: (1,1,1), (2,1), (1,2).  For four stairs there are 3+2 ways to get to the top: (1,1,1,1), (2,1,1), (1,2,1), (1,1,2), and (2,2).  Overall if there are n steps there are f(n)=f(n-1)+f(n-2) ways to get to the top.  </p>"
   ]
  },
  {
   "cell_type": "markdown",
   "metadata": {},
   "source": [
    "<h3>A company has dinner for working mothers with at least one son.  If one mother has two children attends the dinner, what is the probability both are boys?</h3>\n",
    "\n",
    "<p>There are three possibilities: (B,B), (G,B), and (B,G) so 1/3.  Or using Bayes we have $P(BB|B)=\\frac{P(BB)P(B|BB)}{P(B)}=\\frac{1/4\\cdot1}{3/4}=1/3$</p>\n",
    "\n",
    "<h3>If you meet a woman who has a son, what is the probability that her other child is a boy?</h3>\n",
    "\n",
    "<p>1/2.  the probability is independent.</p>"
   ]
  },
  {
   "cell_type": "markdown",
   "metadata": {},
   "source": [
    "<h3>Fair probability from an unfair coin.</h3>\n",
    "\n",
    "<p>Only count pairs of flips.  (H,T) becomes heads and (T,H) becomes tails.  Ignore all others</p>"
   ]
  },
  {
   "cell_type": "markdown",
   "metadata": {},
   "source": [
    "<h3>Two darts are thrown at a target.  The second dart lands farther from the center than the first.  What is the probability that the third is farther from the center than the first?</h3>\n",
    "\n",
    "<p>There are three possible outcomes:\n",
    "<ul>\n",
    "<li>the dart is further than the second</li>\n",
    "<li>the dart is closer than the first</li>\n",
    "<li>the dart is between the first two</li>\n",
    "</ul>\n",
    "\n",
    "There is therefore a 2/3 possibility that it is farther from the center than the closest.  In general, there is a n/(n+1) that the n+1 dart is worst than the best.\n",
    "</p>"
   ]
  },
  {
   "cell_type": "markdown",
   "metadata": {},
   "source": [
    "<h3>If couples keep having childern until they have a girl, what is the expected number of girls to boys?</h3>\n",
    "\n",
    "<p>The geometric series gives us: $\\sum_{k=0}^\\infty x^k=\\frac{1}{1-x}$</p>\n",
    "<p>Differentiating we get: $\\sum_{k=0}^\\infty kx^{k-1}=\\frac{1}{(1-x)^2}$</p>\n",
    "<p>The expected number of girls is $\\sum_k=1^\\infty (1/2)^k=1/(1-1/2)-1=1$</p>\n",
    "<p>The expected number of boys is $\\sum_{k=1}^\\infty (k-1)(1/2)^k=1/2 \\sum_{k=0}^{\\infty} k(1/2)^{k-1}-1=1/2 1/(1-1/2)^2-1=1$</p>\n",
    "<p>The ratio is then still one to one.</p>"
   ]
  },
  {
   "cell_type": "markdown",
   "metadata": {},
   "source": [
    "<h3>You are given 1000 coins.  1 has two heads.  You choose one and flip it 10 times.  Each time, it comes up heads.  What is the probability that it is the unfair coin?</h3>\n",
    "\n",
    "<p>Bayes says: $P(U|10)={P(U)P(10|U)}{P(U)P(10|U)+P(F)P(10|F)}=\\frac{1/1000}{1/1000+999/1000*1/2^{10}}=0.51$</p>"
   ]
  },
  {
   "cell_type": "markdown",
   "metadata": {},
   "source": [
    "<h3>In a line at a movie theater, the person whose birthday is the same as someone in line before hand will get a free ticket.  What is the best position?</h3>\n",
    "\n",
    "<p>If you are the nth person in line, the probability that you get the ticket is the probability that no one else has the same birthday in front of you times the probability that your birthday is among the people in front of you.</p>\n",
    "\n",
    "<p>The probability that two people out of n-1 do not have the same birthday is ${ 365 \\times 364 \\times \\cdots \\times (365-n+2) \\over 365^{n-1} }=\\frac{365!}{365^{n-1}(365-n+1)!}$ (same as birthday paradox)</p>\n",
    "\n",
    "<p>The probability that some one in front of you has your birthday is (n-1)/365</p>\n",
    "\n",
    "<p>We want P(n)>P(n+1) and P(n)>P(n-1).  </p>\n",
    "<p>$P(n)>P(n+1): \\frac{n-1}{365^{n-1}}>\\frac{n-2}{365^{n-2}(365-n+2)}:0>n^2+3n-363$</p>\n",
    "<p>$P(n)>P(n-1): \\frac{n-1}{365^{n-1}(365-n+1)}>\\frac{n}{365^n}: n^2-n-365>0$</p>\n",
    "\n",
    "<p>This can be satisfied at n=20 (sort of)</p>"
   ]
  },
  {
   "cell_type": "markdown",
   "metadata": {},
   "source": [
    "<h3>If the probability of seeing at least one car in 20 minutes is 609/625, what is the probability of seeing at least one car in 5 minutes?</h3>\n",
    "\n",
    "<p>The probability of seeing a car in 5 minutes is $(1-p)^4=1-609/625$ or p=3/5</p>"
   ]
  },
  {
   "cell_type": "markdown",
   "metadata": {},
   "source": [
    "<h3>A player makes 100 basketball throws. The probability of making a throw is equal to the precentage of throws made in the past.  What is the probability of making exactly 50 throws?  The first throw was made and the second was missed.</h3>\n",
    "\n",
    "<p>P(1/3)=1/2 and P(2/3)=1/2</p>\n",
    "<ul>\n",
    "<li>$P(1/4)=P(1/3)*P(1/4|1/3)+P(2/3)P(1/4|2/3)=((1-1/3)+0)1/2=1/3$</li>\n",
    "<li>$P(2/4)=P(1/3)*P(2/4|1/3)+P(2/3)P(2/4|2/3)=(1/3+(1-2/3))1/2=1/3$</li>\n",
    "<li>$P(3/4)=P(1/3)*P(3/4|1/3)+P(2/3)P(3/4|2/3)=(0+2/3)1/2=1/3$</li>\n",
    "</ul>\n",
    "\n",
    "<p>In general: $P(k/(n+1))=P(miss|k/n)P(k/n)+P(score|k/n)P(k/n)=(1-\\frac{k}{n}+\\frac{k-1}{n})\\frac{1}{n-1}=1/n$</p>\n",
    "\n",
    "<p>The probability of 50/100 is 1/99.</p>"
   ]
  },
  {
   "cell_type": "markdown",
   "metadata": {},
   "source": [
    "<h3>A gambler starts with i dollars. He looses \\$1 with probability p and wins \\$1 with probability 1-p.  He stops if he gets N dollars or looses all the money.  What is the probability of getting N dollars?</h3>\n",
    "\n",
    "<p>The probability of reaching N dollars starting with k dollars is $P(k)=P(k+1)*p+P(k-1)(1-p)$.  We know P(0)=0 and P(N)=1.  Rearranging, we get $P(k+1)=\\frac{1}{p}P(k)-\\frac{1-p}{p}P(k-1)=[1+q/p]P(k)-[q/p]P(k-1)$</p>\n",
    "\n",
    "<p>\n",
    "Solve for the first couple of cases:\n",
    "<ul>\n",
    "<li>$P(2)=[1+q/p]P(1)-[q/p]P(0)=[1+q/p]P(1)$</li>\n",
    "<li>$P(3)=[1+q/p]P(2)-[q/p]P(1)=[1+q/p+(q/p)^2]P(1)$</li>\n",
    "<li>$P(i)=[1+q/p+(q/p)^2+...+(q/p)^{i-1}]P(1)=P(1)\\sum_{k=0}^{i-1}(q/p)^k$</li>\n",
    "</ul>\n",
    "<p>The geo series gives us: $\\sum_{k=0}^{n}r^k=\\frac{1-r^{n+1}}{1-r}$</p>\n",
    "\n",
    "<p>$P(i)=\\frac{1-(q/p)^i}{1-q/p}P(1)$ and P(N)=\\frac{1-(q/p)^N}{1-q/p}P(1)=1</p>\n",
    "\n",
    "<p>$P(i)=\\frac{1-(q/p)^i}{1-(q/p)^N}$</p>"
   ]
  },
  {
   "cell_type": "markdown",
   "metadata": {},
   "source": [
    "<h3>Monty Hall: You pick one of three doors.  As soon as you pick it, one of the other doors is opened which does not have a prize.  What is the probability of winning a prize if you switch?</h3>\n",
    "\n",
    "<p>Label the doors A, B, and C.  Lets say you choose A.  What is the probability that the prize is in A given the host opens C?  $P(prize A|Open C)=\\frac{P(prize A)P(Open C|prize A)}{P(prize A)P(Open C|prize A)+P(prize B)P(Open C|prize B)+P(prize C)P(Open C|prize A)}$</p>\n",
    "\n",
    "<p>Without conditioning: $P(prize A)=P(prize B)=P(prize C)=1/3$</p>\n",
    "\n",
    "<p>$P(Open C|prize A)=1/2$ since both doors do not have prizes.</p>\n",
    "\n",
    "<p>$P(Open C|prize B)=1$ since the door you picked can not be opened nor the door with the prize.</p>\n",
    "\n",
    "<p>$P(Open C|prize C)=0$ since that would reveal the prize.</p>\n",
    "\n",
    "<p>$P(prize A|Open C)=\\frac{1/2}{0+1+1/2}=1/3$.  The probability of winning if you switch is 2/3</p>\n",
    "\n",
    "<p>In general: P(prize1|open2)=$\\frac{P(open2|prize1)}{P(open2|prize1)+P(open2|prize2)+P(open2|prize3)+...+P(open2|prizeN)}=\\frac{1/(N-1)}{1/(N-1)+0+1/(N-2)+...1/(N-2)}=\\frac{1/(N-1)}{1+1/(N-1)}=1/N$  and if you switch, you have a (N-1)/N chance of getting the prize.</p>"
   ]
  },
  {
   "cell_type": "markdown",
   "metadata": {},
   "source": [
    "<h3>Dice is thrown three times (A, B, C).  What is the probability that that they are in strictly increasing order?</h3>\n",
    "\n",
    "<p>This can be broken down into two parts: $P(increasing order)=P(increasing order|different numbers)P(different numbers)$.</p>  \n",
    "\n",
    "<p>The probability of different numbers is the number of ways of getting different numbers divided by the total number of ways to roll the dice.  The number of ways of choosing the first die is 6, the number of ways to choose the second die is 5 and the number of last die is 4 for a total of 6!/(6-3)!=120.  The probability is then $P(different numbers)=120/6^3$</p>\n",
    "\n",
    "<p>The probability of increasing order given different number is the number of permutation of 3 objects: $A<B<C$, $A<C<B$, $B<A<C$, $B<C<A$, $C<A<B$, $C<B<A$ or P(increasing order|different numbers)=1/3!\n",
    "</p>\n",
    "\n",
    "<p>P(increasing order)=5/54</p>"
   ]
  },
  {
   "cell_type": "markdown",
   "metadata": {},
   "source": [
    "<h3>Amoeba Population: After every minute, an amoeba can die, split in two, split in three or remain the same.  What is the probability that the amoeba population will die out.</h3>\n",
    "\n",
    "<p>We are given P(S2)=P(S3)=P(D)=P(N)=1/4.  We also know P(D|D)=1, P(D|N)=1/4, $P(D|S2)=(1/4)^2$ and $P(D|S3)=(1/4)^3$</p>\n",
    "\n",
    "<p>The conditional probability is $P(D)=P(D|S2)P(S2)+P(D|S1)P(S1)+P(D|D)P(D)+P(D|N)P(N)=(1+P(D)+(P(D))^2+(P(D))^3)1/4$.  Solving for $P(D)=0.414$</p>"
   ]
  },
  {
   "cell_type": "markdown",
   "metadata": {},
   "source": [
    "<h3>Candies in a Jar: You take out candies one by one from a jar with 10 red candies, 20 blue candies, and 30 green candies.  What is the probability that there are at least one blue and one green candies after all the red ones are removed?</h3>\n",
    "\n",
    "<p>The index of the last green, red, and blue candies is given as $T_g$, $T_r$, and $T_b$ and are between 10/20/30 to 60.  We want $P(T_r<T_b<T_g)+P(T_r<T_g<T_b)=P(T_g=60)P(T_r<T_b|T_g=60)+P(T_b=60)P(T_r<T_g|T_b=60)$</p>\n",
    "\n",
    "<p>$P(T_g=60)=30/60$ since there are 30 different green candies that could be the last and $P(T_b=60)=20/60$ since there are 20 different blue candies that could be the last.  $P(T_r<T_b|T_g=60)=20/30$ since there are 20 different blue candies out of the 30 blue and red candies that could be last.  $P(T_r<T_g|T_b=60)=30/40$ since there are 30 different green candies out of the 40 green and red candies that could be last.</p>\n",
    "\n",
    "<p>Putting all together, we get: $P(T_r<T_b<T_g)+P(T_r<T_g<T_b)=P(T_g=60)P(T_r<T_b|T_g=60)+P(T_b=60)P(T_r<T_g|T_b=60)=30/60\\times 20/30+20/60\\times 30/40=7/12$</p>"
   ]
  },
  {
   "cell_type": "markdown",
   "metadata": {},
   "source": [
    "<h3>Coin Toss Game: Two players, A and B, toss a coin alternatively.  If there is a head followed by a tail, the person who toesses the tail wins.   What is the probability that A wins?</h3>\n",
    "\n",
    "<p>$P(A)=P(A|H)P(H)+P(A|T)P(T)$  The probability of A winning given a tail is the same as the probabilty of B winning $P(A|H)=1-P(A)$.</p>\n",
    "\n",
    "<p>The probabilty of A winning given a head depends on what B gets.  If B gets a Tail, A can not winn.  If B gets a head, the probability of A winning is 1-P(A|H): $P(A|H)=P(T)P(A|B_T)+P(H)P(A|B_H)=0+1/2(1-P(A|H))$ or $P(A|H)=1/3$</p>\n",
    "\n",
    "<p>Plugging in we get: $P(A)=1/2(1-P(A))+1/2\\times 1/3$ or $P(A)=4/9$</p>"
   ]
  },
  {
   "cell_type": "code",
   "execution_count": null,
   "metadata": {
    "collapsed": true
   },
   "outputs": [],
   "source": []
  }
 ],
 "metadata": {
  "kernelspec": {
   "display_name": "Python 2",
   "language": "python",
   "name": "python2"
  },
  "language_info": {
   "codemirror_mode": {
    "name": "ipython",
    "version": 2
   },
   "file_extension": ".py",
   "mimetype": "text/x-python",
   "name": "python",
   "nbconvert_exporter": "python",
   "pygments_lexer": "ipython2",
   "version": "2.7.8"
  }
 },
 "nbformat": 4,
 "nbformat_minor": 0
}
