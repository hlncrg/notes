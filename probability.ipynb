{
 "cells": [
  {
   "cell_type": "markdown",
   "metadata": {},
   "source": [
    "<h1>Probability Fun</h1>\n"
   ]
  },
  {
   "cell_type": "markdown",
   "metadata": {},
   "source": [
    "<p>A deal of hands at bridge is a pack of 52 distributed to four players, each getting 13 cards.\n",
    "How many different deals are there in bridge?</p>\n",
    "\n",
    "<p>Consider only the first player.  The first card dealt to them will be one of 52.  The next card will be\n",
    "one of 51 and so on till 13 cards has been dealt, e.g. $52!/(52-13)!$.  Order of these cards does not matter so\n",
    "further divide this number by $13!$ or ${52 \\choose 13}$.</p>\n",
    "\n",
    "<p>Moving on to the next player, we now have now have $(52-13)$ cards in the deck and we choose another $13$, e.g.\n",
    "${(52-13) \\choose 13}$.  For player three, we have ${(52-2\\times13) \\choose 13}$ ways of dealing the cards and for\n",
    "player four, we have ${(52-3\\times13) \\choose 13}$ ways</p>\n",
    "\n",
    "<p>The total number of deals is \n",
    "${(52) \\choose 13} \\times {(52-13) \\choose 13}\n",
    "\\times {(52-2\\times13) \\choose 13} \\times {(52-3\\times13) \\choose 13}$</p>\n",
    "\n",
    "<p>This is calculated as:</p>"
   ]
  },
  {
   "cell_type": "code",
   "execution_count": 1,
   "metadata": {
    "collapsed": false
   },
   "outputs": [
    {
     "name": "stdout",
     "output_type": "stream",
     "text": [
      "53644737765488792839237440000\n"
     ]
    }
   ],
   "source": [
    "def choose(n, k):\n",
    "\n",
    "    if 0 <= k <= n:\n",
    "        ntok = 1\n",
    "        ktok = 1\n",
    "        for t in xrange(1, min(k, n - k) + 1):\n",
    "            ntok *= n\n",
    "            ktok *= t\n",
    "            n -= 1\n",
    "        return ntok // ktok\n",
    "    else:\n",
    "        return 0\n",
    "    \n",
    "print choose(52,13)*choose(52-13,13)*choose(52-13*2,13)*choose(52-13*3,13)"
   ]
  },
  {
   "cell_type": "code",
   "execution_count": null,
   "metadata": {
    "collapsed": true
   },
   "outputs": [],
   "source": []
  }
 ],
 "metadata": {
  "kernelspec": {
   "display_name": "Python 2",
   "language": "python",
   "name": "python2"
  },
  "language_info": {
   "codemirror_mode": {
    "name": "ipython",
    "version": 2
   },
   "file_extension": ".py",
   "mimetype": "text/x-python",
   "name": "python",
   "nbconvert_exporter": "python",
   "pygments_lexer": "ipython2",
   "version": "2.7.8"
  }
 },
 "nbformat": 4,
 "nbformat_minor": 0
}
