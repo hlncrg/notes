{
 "cells": [
  {
   "cell_type": "markdown",
   "metadata": {},
   "source": [
    "<h1>Probability Fun</h1>\n"
   ]
  },
  {
   "cell_type": "markdown",
   "metadata": {},
   "source": [
    "<h2>Combitorics: Learning to Count</h2>\n",
    "\n",
    "<p>There are three common counting situations in probabilty:</p>\n",
    "\n",
    "<h3>Number of orderings of $k$ objects out of $n$ (with replacement)</h3>\n",
    "\n",
    "<p>How many ways are there to order a collection of green, pink, blue, \n",
    "yellow, and red flags (unlimited number) on three flag poles? There are 5 types of flags to\n",
    "choose from for the first flag pole.  There are 5 types of flags to \n",
    "choose from for the second flag pole.  There are 5 types of flags to \n",
    "choose from for the third flag pole.  It is no trick to say that there\n",
    "are $n^k=5^3$ ways to order the flags.\n",
    "</p>\n",
    "\n",
    "<p>How many different results can one get from throwing a fair dice\n",
    "three times?  $n^k=6^3$</p>\n",
    "\n",
    "<p>How many different results can one get from drawing a card three times from a\n",
    "52 card deck with replacement? $n^k=52^3$</p>"
   ]
  },
  {
   "cell_type": "markdown",
   "metadata": {},
   "source": [
    "<h4>Adding Features to the Objects</h4>\n",
    "\n",
    "<p>What if the flags can have either a white circle or black circle in the center?</p>\n",
    "\n",
    "<p>The number of types of flags is now $2\\times5$ so the number of orders is\n",
    "just $n^k=(5\\times2)^3$.  Still no tricks here.</p>\n",
    "\n",
    "<p>What if we have 6 flag poles but want to put up 3 flags?</p>  \n",
    "\n",
    "<p>Previously\n",
    "the number of flag poles was the number of objects, $n$.  But now the \n",
    "flag pole is a feature of the objects just as the black/white circle was.  \n",
    "We want $n$ to be the number of flag pole/flag color pairs $6\\times5$. \n",
    "Thus similarly the number of orderings is $n^k=(5\\times6)^3$.</p>\n",
    "\n",
    "<h4>Formalism</h4>\n",
    "\n",
    "<p>The size of our \"population\" is $n$, the total number of possible objects\n",
    "or combinations of features of objects.  The size of our \"sample\" is $k$, number\n",
    "of objects taken from the population.</p>"
   ]
  },
  {
   "cell_type": "markdown",
   "metadata": {},
   "source": [
    "<h3>Number of orderings of $k$ objects out of $n$ (without replacement)</h3>\n",
    "\n",
    "<p>How many ways are there to order a green flag, a pink flag, a blue flag, \n",
    "a yellow flag, and a red flags on three flag poles?</p>  \n",
    "\n",
    "<p>There is only one of each flag.\n",
    "For the first flag pole, there are 5 flags from which to choose.  For the second\n",
    "flag pole there are 4 flags from which to choose.  And for the third flag pole\n",
    "there are 3 flags from which to choose.  The number of orderings is then\n",
    "$5\\times4\\times3$ or $5!/2!$.  In the general case, the number of orderings is\n",
    "$n!/(n-k)!$.</p>\n",
    "\n"
   ]
  },
  {
   "cell_type": "markdown",
   "metadata": {},
   "source": [
    "<h4>Same but different</h4>\n",
    "\n",
    "<p>How many different ways are there to order a green flag, a red flag, and\n",
    "a blue flag on 6 flag poles?</p>  \n",
    "\n",
    "<p>Similar to the last problem, there are 6 ways to choose the first\n",
    "flag pole, 5 ways to choose the second flag pole, and \n",
    "4 ways to choose the last flag pole so the answer is: $6\\times5\\times4$.\n",
    "The general case is again $n!/(n-k)!$ where $n$ is the number of flag poles\n",
    "and $k$ is the number of flags.</p>\n",
    "\n"
   ]
  },
  {
   "cell_type": "markdown",
   "metadata": {},
   "source": [
    "<h3>Subpopulations or when order does not matter (without replacement).</h3>\n",
    "\n",
    "<p>How many ways are there to choose three flags from a green flag, a pink flag, a blue flag, \n",
    "a yellow flag, and a red flag?  When we where putting the flags on the poles, this was $5!/2!$\n",
    "but now we do not care about the order of the chooses.  choosing green, pink, and blue is the\n",
    "same as choosing green, blue, and pink is the same as choosing blue, green, and pink ...  There \n",
    "are a total of $3!$ ways of choosing the ordering e.g. 3 different colors for the first selection,\n",
    "2 different colors for the second selection, and 1 color for the final selection.  In general, if\n",
    "k flags are chosen then there are $k!$ of choosing the flags.\n",
    "</p>\n",
    "\n",
    "<p>If order mattered, there was $n!/(n-k)!$ ways of choosing k flags from n total flags.  If order does\n",
    "not matter, we are over counting by $k!$ and the number of ways to choose the flags is $\\frac{n!}{(n-k)!k!}$.</p>"
   ]
  },
  {
   "cell_type": "markdown",
   "metadata": {},
   "source": [
    "<h3>Subpopulations or when order does not matter (with replacement).</h3>\n",
    "\n",
    "For drawing k samples from a population with n catagories:\n",
    "$\\frac{(n+k-1)!}{k!(n-1)!}={n+k-1 \\choose k}$\n",
    "\n",
    "https://www.youtube.com/watch?v=Qxzb_ZYEE8Y\n",
    "\n",
    "<h3>Adding Complications</h3>"
   ]
  },
  {
   "cell_type": "markdown",
   "metadata": {},
   "source": [
    "<p>How many different ways are there to order a green flag, a red flag, a pink flag, and\n",
    "a blue flag on 6 flag poles if we hang only 3 of the flags?</p>  \n",
    "\n",
    "<p>$6!/(6-3)! \\times 4!/3!  $ </p>"
   ]
  },
  {
   "cell_type": "markdown",
   "metadata": {},
   "source": [
    "<h4>Example 1</h4>\n",
    "<p>How many ways are there to order five flags from \n",
    "a yellow flag and four red flags?</p>  \n",
    "\n",
    "<p>There are 5 ways to choose the first flag, 4 ways to choose the second flag, 3 ways to choose the\n",
    "third flag, 2 ways to choose the fourth flag and one flag remaining for the final selection, e.g. $5!$.\n",
    "But we have obviously overcounted here since there are only two types of unique distingushible flags.  \n",
    "The number of ways of reodering these four identical flags is 4!.  This is the factor by which we have over counted so the number of ways of ordering these flags is $5!/4!$</p>\n",
    "\n"
   ]
  },
  {
   "cell_type": "markdown",
   "metadata": {},
   "source": [
    "<h4>Example 3</h4>\n",
    "<p>How many ways are there to order three flags on flags poles from two yellow flag and three red flags?</p>\n",
    "<p>Here there are three different cases: 2 yellow flags and 1 red flags or 1 yellow flag and 2 red flags or \n",
    "3 red flags.  For 2 yellow flags and 1 red flags, there are 3!/2! arrangements.  For the 1 yellow flag and 2 red flags, there are 3!/2! arrangements.  For the 3 red flags case there is only one arrangement.  \n",
    "The total number of arrangements is then: $\\frac{3!}{2!}+\\frac{3!}{2!}+1$</p>"
   ]
  },
  {
   "cell_type": "markdown",
   "metadata": {},
   "source": [
    "<h4>Example 4</h4>\n",
    "<p>How many ways are there to order three flags on five flag poles from two yellow flags and four red flags?</p>\n",
    "\n",
    "<p>There are again three different color combinations as in the previous example.  The number of \n",
    "arrangements of those color combinations has changed.   For 2 yellow flags and 1 red flags, there are 5!/2! arrangements. For the 1 yellow flag and 2 red flags, there are 5!/2! arrangements. For the 3 red flags case there are 5!/3! are arrangements.</p>"
   ]
  },
  {
   "cell_type": "markdown",
   "metadata": {},
   "source": [
    "<p>A deal of hands at bridge is a pack of 52 distributed to four players, each getting 13 cards.\n",
    "How many different deals are there in bridge?</p>\n",
    "\n",
    "<p>Consider only the first player.  The first card dealt to them will be one of 52.  The next card will be\n",
    "one of 51 and so on till 13 cards has been dealt, e.g. $52!/(52-13)!$.  Order of these cards does not matter so\n",
    "further divide this number by $13!$ or ${52 \\choose 13}$.</p>\n",
    "\n",
    "<p>Moving on to the next player, we now have now have $(52-13)$ cards in the deck and we choose another $13$, e.g.\n",
    "${(52-13) \\choose 13}$.  For player three, we have ${(52-2\\times13) \\choose 13}$ ways of dealing the cards and for\n",
    "player four, we have ${(52-3\\times13) \\choose 13}$ ways</p>\n",
    "\n",
    "<p>The total number of deals is \n",
    "${(52) \\choose 13} \\times {(52-13) \\choose 13}\n",
    "\\times {(52-2\\times13) \\choose 13} \\times {(52-3\\times13) \\choose 13}$</p>\n",
    "\n",
    "<p>This is calculated as:</p>"
   ]
  },
  {
   "cell_type": "code",
   "execution_count": 1,
   "metadata": {
    "collapsed": false
   },
   "outputs": [
    {
     "name": "stdout",
     "output_type": "stream",
     "text": [
      "53644737765488792839237440000\n"
     ]
    }
   ],
   "source": [
    "def choose(n, k):\n",
    "\n",
    "    if 0 <= k <= n:\n",
    "        ntok = 1\n",
    "        ktok = 1\n",
    "        for t in xrange(1, min(k, n - k) + 1):\n",
    "            ntok *= n\n",
    "            ktok *= t\n",
    "            n -= 1\n",
    "        return ntok // ktok\n",
    "    else:\n",
    "        return 0\n",
    "    \n",
    "print choose(52,13)*choose(52-13,13)*choose(52-13*2,13)*choose(52-13*3,13)"
   ]
  },
  {
   "cell_type": "markdown",
   "metadata": {},
   "source": [
    "<h2>Combinatorics: Summary</h2>\n",
    "\n",
    "<p>Multinomial theorem: $\\frac{(n_1+n_2+...+n_k)!}{n_1!n_2!\\cdot\\cdot\\cdot n_k!}$</p>\n",
    "<p>n choose k: ${n \\choose k}=\\frac{n!}{(n-k)!k!}$</p>\n",
    "<p>ordered samples with replacement: $n^k$</p>\n",
    "<p>ordered samples without replacement: $\\frac{n!}{(n-k)!}={n \\choose k}\\times k!$</p>\n",
    "<p>unordered samples with replacement: $\\frac{(n-1+k)!}{(n-1)!k!}$</p>\n",
    "<p>unordered samples without replacement: $\\frac{n!}{(n-k)!k!}$</p>\n",
    "<p>n choose k: ${n \\choose k}=\\frac{n!}{(n-k)!k!}$</p>\n"
   ]
  },
  {
   "cell_type": "markdown",
   "metadata": {},
   "source": [
    "<p>pascal's triangle: ${n \\choose k}={n-1 \\choose k-1}+{n-1 \\choose k}$</p>"
   ]
  },
  {
   "cell_type": "markdown",
   "metadata": {},
   "source": [
    "<h4>Coin toss game</h4>\n",
    "\n",
    "<p>Two gamblers are playing a coin toss game.  Gambler A has (n+1) fair coins; B has n fair coins.  What \n",
    "is the probability that A will have more heads than B if both flip all their coins?</p>"
   ]
  },
  {
   "cell_type": "markdown",
   "metadata": {
    "collapsed": true
   },
   "source": [
    "<h4>Card game</h4>\n",
    "\n",
    "<p>A casino offers a simple card game.  There are 52 cards in a deck with 4 cards for each value.\n",
    "</p>"
   ]
  },
  {
   "cell_type": "markdown",
   "metadata": {},
   "source": [
    "<p>Binomaial: $\\mathrm{Pr}(X=k)={n \\choose k}p^k(1-p)^{n-k}$</p>\n",
    "<p>Binomial: $\\mathrm{Pr}(X=k)=p^k(1-p)^k$ where $k$ is 0 or 1</p>"
   ]
  },
  {
   "cell_type": "markdown",
   "metadata": {},
   "source": [
    "<h4>Chevalier de Mere's Paradox</h4>\n",
    "<p>Which is more probable:</p>\n",
    "<p>At least one 6 in four throws of a dice.</p>\n",
    "<p>At least one double ace in 24 throws of a pair of dice.</p>\n",
    "\n",
    "<p>probability for not a six: $1-\\frac{5^4}{6^4}$</p>\n",
    "<p>probability of not a double six: $1-\\frac{35^{24}}{36^{24}}$</p>"
   ]
  },
  {
   "cell_type": "markdown",
   "metadata": {},
   "source": [
    "<h4>Birthday paradox</h4>\n",
    "\n",
    "<p>$$1-\\frac{\\frac{365!}{(365-n)!}}{356^n}$$</p>"
   ]
  },
  {
   "cell_type": "markdown",
   "metadata": {},
   "source": [
    "<h4>If two balls are randomly placed in three urns, what are the chances the second urn is occupied?</h4>\n",
    "\n",
    "<p>$5/3^2$</p>"
   ]
  },
  {
   "cell_type": "markdown",
   "metadata": {},
   "source": [
    "<p>probability of event A is: $P(A)=\\frac{\\mathrm{cardinality}(A)}{\\mathrm{cardinality}(\\Omega)}$</p>"
   ]
  },
  {
   "cell_type": "markdown",
   "metadata": {},
   "source": [
    "<p>If you have 12 balls and 4 urns, in how many\n",
    "ways can you obtain the occupancy configuration (4,2,0,6)?</p>\n",
    "\n",
    "<p>${12 \\choose 4}{12-4 \\choose 2}{12-4-2 \\choose 0}{12-4-2-0 \\choose 6}$</p>"
   ]
  },
  {
   "cell_type": "markdown",
   "metadata": {},
   "source": [
    "<p>In how many ways can we obtain  a given occupancy\n",
    "configuration $(k_1,k_2,...,k_r)$</p>\n",
    "\n",
    "<p>${n \\choose k_1}{n-k_1 \\choose k_2}{n-k_1-k_2 \\choose k_3} \\cdot \\cdot \\cdot {n-k_1-...-k_{r_1} \\choose k_r}=\\frac{n!}{k_1!k_2!\\cdot \\cdot \\cdot k_r!}$</p>\n",
    "\n",
    "<p>The total number of occupancies is $r^n$</p>"
   ]
  },
  {
   "cell_type": "markdown",
   "metadata": {},
   "source": [
    "<h3>What is the probability of winning on the first throw of craps</h3>\n",
    "\n",
    "\n",
    "<p>You win immediately if you throw 7 or 11.  You lose immediately if you obtain 2, 3, or 12.</p>\n",
    "\n",
    "<p>You throw again if you obtain 4, 5, 6, 8, 9, or 10.  If your second throw is the same as your first throw, you win.  If the throw is a 7, you lose.</p>\n",
    "\n",
    "<p>Probabilities add when mutually exclusive:</p>\n",
    "<p>$P(win)=P(7)+P(11)=\\frac{6}{36}+\\frac{2}{36}=\\frac{2}{9}$</p>\n",
    "<p>$p(lose)=P(2)+P(3)+P(12)=\\frac{1}{36}+\\frac{2}{36}+\\frac{1}{1}=\\frac{1}{9}$</p>\n",
    "<p>$P(continue)=2(\\frac{3}{36}+\\frac{4}{36}+\\frac{5}{36})$</p>"
   ]
  },
  {
   "cell_type": "markdown",
   "metadata": {},
   "source": [
    "<h3>Toss a coin repeatedly until two successive tosses show the same face.  What is the chance that the coin is tossed four or more times?</h3>\n",
    "\n",
    "<p>$P(HH)=P(TT)=\\frac{1}{4}$</p>\n",
    "<p>$P(THH)=P(HTT)=\\frac{1}{8}$</p>\n",
    "<p>$P(HTHH)=P(THTT)=\\frac{1}{16}$</p>\n",
    "<p>$P(THTHH)=P(HTHTT)=\\frac{1}{32}$</p>\n",
    "\n",
    "<p>$P(n\\geq 4 \\mathrm{tosses})=(P(HTHH)+P(THTT))+(P(THTHH)+P(HTHTT))+(P(HTHTHH)+P(THTHTT))+...$<br>\n",
    "$=2(\\frac{1}{16}+\\frac{1}{32}+\\frac{1}{64}+...)\n",
    "=2\\cdot \\frac{1}{16}(1+\\frac{1}{2}+\\frac{1}{4}+\\frac{1}{8}+...)=2 \\cdot \\frac{1}{16} \\cdot \\frac{1}{1-\\frac{1}{2}}=\\frac{1}{4}$\n",
    "</p>\n",
    "\n",
    "<h3>Geometric Series</h3>\n",
    "<p>$\\sum_{k=0}^{\\infty}r^k=\\frac{1}{1-r}$ for $|r|<1$</p>"
   ]
  },
  {
   "cell_type": "markdown",
   "metadata": {},
   "source": [
    "<h3>Sets</h3>\n",
    "<p>a collection of distinct objects</p>\n",
    "<p>use curly brackets: {a,b,c,d,e}</p>\n",
    "<h3>Graphs</h3>\n",
    "<p>edges plus vertices</p>\n",
    "<img src=\"graph3ver.png\">\n"
   ]
  },
  {
   "cell_type": "markdown",
   "metadata": {},
   "source": [
    "<h3>Number systems</h3>\n",
    "<p>binary: {0,1}</p>\n",
    "<p>finite set: {1,2,...,N}; n is an intger $1\\leq n \\leq N$</p>\n",
    "<p>natural numbers: {1,2,3,...}</p>\n",
    "<p>integer: {...-2,-1,0,1,2,...}</p>\n",
    "<p>real numbers: {$-\\infty$,$\\infty$}</p>"
   ]
  },
  {
   "cell_type": "markdown",
   "metadata": {},
   "source": [
    "<h3>Axiomatic theory of probability</h3>\n",
    "<p>Outcomes: sample space, $\\Omega$</p>\n",
    "<p>Events: measurable sets, $\\mathcal{F}$</p>\n",
    "<p></p>"
   ]
  },
  {
   "cell_type": "code",
   "execution_count": null,
   "metadata": {
    "collapsed": true
   },
   "outputs": [],
   "source": []
  }
 ],
 "metadata": {
  "kernelspec": {
   "display_name": "Python 2",
   "language": "python",
   "name": "python2"
  },
  "language_info": {
   "codemirror_mode": {
    "name": "ipython",
    "version": 2
   },
   "file_extension": ".py",
   "mimetype": "text/x-python",
   "name": "python",
   "nbconvert_exporter": "python",
   "pygments_lexer": "ipython2",
   "version": "2.7.8"
  }
 },
 "nbformat": 4,
 "nbformat_minor": 0
}
