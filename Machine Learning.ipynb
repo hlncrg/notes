{
 "cells": [
  {
   "cell_type": "markdown",
   "metadata": {},
   "source": [
    "<h1>Dimensionality Reduction: PCA and SVD</h1>\n",
    "<h2>Why dimensionality reduction</h2>\n",
    "<ul>\n",
    "    <li>Discover hidden correlations/topics</li>\n",
    "    <li>Remove redundent and noisy features</li>\n",
    "    <li>Interpretation and visualization</li>\n",
    "    <li>Easier storage/data processing</li>\n",
    "</ul>\n",
    "\n"
   ]
  },
  {
   "cell_type": "markdown",
   "metadata": {},
   "source": [
    "Linear Discriminant Analysis--\n",
    "Pricipal Component Analysis\n",
    "Singular Value Decomposition"
   ]
  },
  {
   "cell_type": "markdown",
   "metadata": {
    "collapsed": true
   },
   "source": [
    "<h1>Topic Modeling</h1>\n",
    "<p>Latent Semantic Analysis=SVD</p>\n",
    "<p>word2vec=2 layer neural net<p>\n",
    "<p>Topics with classifiers</p>\n",
    "<p>Latent Dirichlet Allocation</p>\n",
    "\n",
    "<p>Bayesian Learning<p>"
   ]
  }
 ],
 "metadata": {
  "kernelspec": {
   "display_name": "Python 2",
   "language": "python",
   "name": "python2"
  },
  "language_info": {
   "codemirror_mode": {
    "name": "ipython",
    "version": 2
   },
   "file_extension": ".py",
   "mimetype": "text/x-python",
   "name": "python",
   "nbconvert_exporter": "python",
   "pygments_lexer": "ipython2",
   "version": "2.7.8"
  }
 },
 "nbformat": 4,
 "nbformat_minor": 0
}
