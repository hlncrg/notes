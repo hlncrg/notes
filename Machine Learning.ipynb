{
 "cells": [
  {
   "cell_type": "markdown",
   "metadata": {},
   "source": [
    "<h1>Dimensionality Reduction: PCA and SVD</h1>\n",
    "<h2>Why dimensionality reduction</h2>\n",
    "<ul>\n",
    "    <li>Discover hidden correlations/topics</li>\n",
    "    <li>Remove redundent and noisy features</li>\n",
    "    <li>Interpretation and visualization</li>\n",
    "    <li>Easier storage/data processing</li>\n",
    "</ul>\n",
    "\n"
   ]
  },
  {
   "cell_type": "markdown",
   "metadata": {},
   "source": [
    "Linear Discriminant Analysis--\n",
    "Pricipal Component Analysis\n",
    "Singular Value Decomposition"
   ]
  },
  {
   "cell_type": "markdown",
   "metadata": {
    "collapsed": true
   },
   "source": [
    "<h1>Topic Modeling</h1>\n",
    "<p>Latent Semantic Analysis=SVD</p>\n",
    "<p>word2vec=2 layer neural net<p>\n",
    "<p>Topics with classifiers</p>\n",
    "<p>Latent Dirichlet Allocation</p>\n",
    "\n",
    "<p>Bayesian Learning<p>"
   ]
  },
  {
   "cell_type": "markdown",
   "metadata": {},
   "source": [
    "<h1>Statistical Learning</h1>\n",
    "\n",
    "<h2>Regression Function</h2>\n",
    "<p>ideal or optimal predictor of Y with mean squared predictor: $f(x)=E(Y|X=x)$ minimizes $E[(Y-g(X))^2|X=x]$ over all functions $g$ at all points X=x.</p>\n",
    "\n",
    "<p>$\\epsilon=Y-f(x)$ is the irreducible error</p>\n",
    "\n",
    "<p>$E[(Y-\\hat{f}(X))^2|X=x]=[f(x)-\\hat{f}(x)]^2+Var(\\epsilon)$</p>\n",
    "<p>Reducible:$[f(x)-\\hat{f}(x)]^2$; Irreducible:$Var(\\epsilon)$</p>"
   ]
  },
  {
   "cell_type": "markdown",
   "metadata": {},
   "source": [
    "<img src=\"methodComp.png\">"
   ]
  },
  {
   "cell_type": "markdown",
   "metadata": {},
   "source": [
    "<h2>Model Selection and Bias-Variance Tradeoff</h2>\n",
    "\n",
    "<p>We should train and test of different data sets to avoid overfitting.</p>\n",
    "\n",
    "<img src=\"complexityAndAccuracy.png\">"
   ]
  },
  {
   "cell_type": "markdown",
   "metadata": {},
   "source": [
    "<p>We can model the data with a simple line or a complex curve or a spline.  The simple line has high error for both the training data and test data.  The spline has less in both.  The complex curve has small error in trainging data but large in testing data.</p>"
   ]
  },
  {
   "cell_type": "markdown",
   "metadata": {},
   "source": [
    "<h3>Bias-Varience Tradeoff</h3>\n",
    "<p>$E(y_0-\\hat{f}(x_0))^2=Var(\\hat{f}(x_0))+[Bias(\\hat{f}(x_0))]^2+Var(\\epsilon)$</p>\n",
    "\n",
    "<p>Flexibility increases: variance increases, bias decreases</p>\n",
    "<h5>Variance</h5><p>variance of different training sets.</p>\n",
    "<h5>Bias</h5><p>difference b/t average prediction and truth</p>"
   ]
  },
  {
   "cell_type": "markdown",
   "metadata": {},
   "source": [
    "<img src=\"biasVar3.png\">"
   ]
  },
  {
   "cell_type": "markdown",
   "metadata": {},
   "source": [
    "<h2>Linear Regression</h2>\n",
    "<p>$Y=\\beta_0+\\beta_1 X+ \\epsilon$</p>\n",
    "<p>$\\beta_0$: intercept; $\\beta_1$: slope; $\\epsilon$: error</p>\n",
    "<p>predictor: $\\hat{y}=\\hat{\\beta}_0+\\hat{\\beta}_1 x$</p>\n",
    "<p>residual: $e_i=y_i-\\hat{y}_i$</p>\n",
    "<p>residual sum of squares: \n",
    "$RSS=e_1^2+e_2^e+...e_n^2=(y_1-\\hat{\\beta}_0-\\hat{\\beta}_1 x_1)^2+(y_2-\\hat{\\beta}_0-\\hat{\\beta}_1 x_2)^2+...+(y_n-\\hat{\\beta}_0-\\hat{\\beta}_1 x_n)^2$\n",
    "</p>"
   ]
  },
  {
   "cell_type": "markdown",
   "metadata": {},
   "source": [
    "<p>lines are residuals</p>\n",
    "<img src=\"residuals.png\">"
   ]
  },
  {
   "cell_type": "markdown",
   "metadata": {},
   "source": [
    "<p>\n",
    "$\\hat{\\beta}_1=\\frac{\\sum^n_{i=1}(x_i-\\bar{x})(y_i=\\bar{y})}{\\sum^n_{i=1}(x_i-\\bar{x})^2}$ and $\\hat{\\beta}_0=\\bar{y}-\\hat{\\beta}_1\\bar{x}$\n",
    "</p>\n",
    "<p>where sample; $\\bar{y}=\\frac{1}{n}\\sum^n_{i=1}y_i$ and $\\bar{x}=\\frac{1}{n}\\sum^n_{i=1}x_i$</p>"
   ]
  }
 ],
 "metadata": {
  "kernelspec": {
   "display_name": "Python 2",
   "language": "python",
   "name": "python2"
  },
  "language_info": {
   "codemirror_mode": {
    "name": "ipython",
    "version": 2
   },
   "file_extension": ".py",
   "mimetype": "text/x-python",
   "name": "python",
   "nbconvert_exporter": "python",
   "pygments_lexer": "ipython2",
   "version": "2.7.8"
  }
 },
 "nbformat": 4,
 "nbformat_minor": 0
}
