{
 "cells": [
  {
   "cell_type": "markdown",
   "metadata": {},
   "source": [
    "<h1>Dimensionality Reduction: PCA and SVD</h1>\n",
    "<h2>Why dimensionality reduction</h2>\n",
    "<ul>\n",
    "    <li>Discover hidden correlations/topics</li>\n",
    "    <li>Remove redundent and noisy features</li>\n",
    "    <li>Interpretation and visualization</li>\n",
    "    <li>Easier storage/data processing</li>\n",
    "</ul>\n",
    "\n"
   ]
  },
  {
   "cell_type": "markdown",
   "metadata": {},
   "source": [
    "Linear Discriminant Analysis--\n",
    "Pricipal Component Analysis\n",
    "Singular Value Decomposition"
   ]
  },
  {
   "cell_type": "markdown",
   "metadata": {
    "collapsed": true
   },
   "source": [
    "<h1>Topic Modeling</h1>\n",
    "<p>Latent Semantic Analysis=SVD</p>\n",
    "<p>word2vec=2 layer neural net<p>\n",
    "<p>Topics with classifiers</p>\n",
    "<p>Latent Dirichlet Allocation</p>\n",
    "\n",
    "<p>Bayesian Learning<p>"
   ]
  },
  {
   "cell_type": "markdown",
   "metadata": {},
   "source": [
    "<h1>Statistical Learning</h1>\n",
    "\n",
    "<h2>Regression Function</h2>\n",
    "<p>ideal or optimal predictor of Y with mean squared predictor: $f(x)=E(Y|X=x)$ minimizes $E[(Y-g(X))^2|X=x]$ over all functions $g$ at all points X=x.</p>\n",
    "\n",
    "<p>$\\epsilon=Y-f(x)$ is the irreducible error</p>\n",
    "\n",
    "<p>$E[(Y-\\hat{f}(X))^2|X=x]=[f(x)-\\hat{f}(x)]^2+Var(\\epsilon)$</p>\n",
    "<p>Reducible:$[f(x)-\\hat{f}(x)]^2$; Irreducible:$Var(\\epsilon)$</p>"
   ]
  },
  {
   "cell_type": "markdown",
   "metadata": {},
   "source": [
    "<img src=\"methodComp.png\">"
   ]
  },
  {
   "cell_type": "markdown",
   "metadata": {},
   "source": [
    "<h2>Model Selection and Bias-Variance Tradeoff</h2>\n",
    "\n",
    "<p>We should train and test of different data sets to avoid overfitting.</p>\n",
    "\n",
    "<img src=\"complexityAndAccuracy.png\">"
   ]
  },
  {
   "cell_type": "markdown",
   "metadata": {},
   "source": [
    "<p>We can model the data with a simple line or a complex curve or a spline.  The simple line has high error for both the training data and test data.  The spline has less in both.  The complex curve has small error in trainging data but large in testing data.</p>"
   ]
  },
  {
   "cell_type": "markdown",
   "metadata": {},
   "source": [
    "<h3>Bias-Varience Tradeoff</h3>\n",
    "<p>$E(y_0-\\hat{f}(x_0))^2=Var(\\hat{f}(x_0))+[Bias(\\hat{f}(x_0))]^2+Var(\\epsilon)$</p>\n",
    "\n",
    "<p>Flexibility increases: variance increases, bias decreases</p>\n",
    "<h5>Variance</h5><p>variance of different training sets.</p>\n",
    "<h5>Bias</h5><p>difference b/t average prediction and truth</p>"
   ]
  },
  {
   "cell_type": "markdown",
   "metadata": {},
   "source": [
    "<img src=\"biasVar3.png\">"
   ]
  },
  {
   "cell_type": "markdown",
   "metadata": {},
   "source": [
    "<h2>Linear Regression</h2>\n",
    "<p>$Y=\\beta_0+\\beta_1 X+ \\epsilon$</p>\n",
    "<p>$\\beta_0$: intercept; $\\beta_1$: slope; $\\epsilon$: error</p>\n",
    "<p>predictor: $\\hat{y}=\\hat{\\beta}_0+\\hat{\\beta}_1 x$</p>\n",
    "<p>residual: $e_i=y_i-\\hat{y}_i$</p>\n",
    "<p>residual sum of squares: \n",
    "$RSS=e_1^2+e_2^2+...e_n^2=(y_1-\\hat{\\beta}_0-\\hat{\\beta}_1 x_1)^2+(y_2-\\hat{\\beta}_0-\\hat{\\beta}_1 x_2)^2+...+(y_n-\\hat{\\beta}_0-\\hat{\\beta}_1 x_n)^2$\n",
    "</p>"
   ]
  },
  {
   "cell_type": "markdown",
   "metadata": {},
   "source": [
    "<p>lines are residuals</p>\n",
    "<img src=\"residuals.png\">"
   ]
  },
  {
   "cell_type": "markdown",
   "metadata": {},
   "source": [
    "<p>\n",
    "$\\hat{\\beta}_1=\\frac{\\sum^n_{i=1}(x_i-\\bar{x})(y_i=\\bar{y})}{\\sum^n_{i=1}(x_i-\\bar{x})^2}$ and $\\hat{\\beta}_0=\\bar{y}-\\hat{\\beta}_1\\bar{x}$\n",
    "</p>\n",
    "<p>where sample mean: $\\bar{y}=\\frac{1}{n}\\sum^n_{i=1}y_i$ and $\\bar{x}=\\frac{1}{n}\\sum^n_{i=1}x_i$</p>"
   ]
  },
  {
   "cell_type": "markdown",
   "metadata": {},
   "source": [
    "<h3>Accuracy of Coefficient Estimates</h3>\n",
    "<p>standard error is variance of estimator under repeated sampling</p>\n",
    "<p>$SE(\\hat{\\beta}_1)^2=\\frac{\\sigma^2}{\\sum_{i=1}^n(x_i-\\bar{x})^2}$ and $SE(\\hat{\\beta}_0)^2=\\sigma^2 [\\frac{1}{n}+\\frac{\\bar{x}^2}{\\sum_{i=1}^n(x_i-\\bar{x})^2}]^2$</p>\n",
    "<p>where $\\sigma^2=Var(\\epsilon)$</p>"
   ]
  },
  {
   "cell_type": "markdown",
   "metadata": {},
   "source": [
    "<h3>Confidence intervals</h3>\n",
    "<p>95% confidence interval: $\\hat{\\beta}_1\\pm 2\\cdot SE(\\hat{\\beta}_1)$</p>"
   ]
  },
  {
   "cell_type": "markdown",
   "metadata": {},
   "source": [
    "<h2>Hypothesis Testing with Linear Regression</h2>\n",
    "<p>Test if there is a slope: $t=(\\hat{\\beta}_1-0)/SE(\\hat{\\beta}_1)$</p>\n",
    "<p>Calculate a p-value: probability of getting this value or greater.</p>\n",
    "\n",
    "<h2>R-squared<h2>\n",
    "<p>$R^2=1-\\frac{\\sum_i(y_i-\\hat{y}_i)^2}{\\sum_i(y_i-\\bar{y})^2}$</p>"
   ]
  },
  {
   "cell_type": "markdown",
   "metadata": {},
   "source": [
    "<h2>Multiple Linear Regression</h2>\n",
    "<p>$Y=\\beta_0+\\beta_1 X_1+\\beta_2 X_2+...+\\beta_p X_p +\\epsilon$</p>\n",
    "<p>Crrelation among predictors causes problems: variance of coefficients tends to increase and interpretation becomes hazardous.</p>\n",
    "<p>a regression coeffcient $\\beta_j$ estimates the expected change in Y per unit change in $X_j$, with all other predictors held fixed.  But predictors usually change together.</p>\n",
    "<p>Can calculate standard error, t-statistic and p value for each coefficient (test against coefficient is zero).  Also can measure correlations of coefficients</p>\n",
    "\n",
    "<h3>Which coeffiicients are important?</h3>\n",
    "<p>Direct: recompute with all possible subsets of variables.</p>\n",
    "<h4>Forward Selection</h4>\n",
    "<ul>\n",
    "<li>null model: an intercept but no predictors</li>\n",
    "<li>test simple linear regression with each variable</li>\n",
    "<li>add varialbe that is lowest two-variable model (holding other fixed)</li>\n",
    "<li>continue until stopping rule is satisfied.</li>\n",
    "</ul>\n",
    "\n",
    "<h4>Backward Selection</h4>\n",
    "<ul>\n",
    "<li>Start with all variables</li>\n",
    "<li>remove variable with largest p-value (set to zero)</li>\n",
    "<li>refit and remove variable with largest p-value</li>\n",
    "<li>Continue until stopping rule is satisfied.</li>\n",
    "</ul>"
   ]
  },
  {
   "cell_type": "markdown",
   "metadata": {},
   "source": [
    "<h2>Qualitative Predictors</h2>\n",
    "<p>gender, race, student,... $x_i$ is a dummy variable that is 0 or 1.  There will always be one less variable than the number of levels.</p>"
   ]
  },
  {
   "cell_type": "markdown",
   "metadata": {},
   "source": [
    "<h2>Interactions</h2>\n",
    "<p>Assumed no interaction between variables.  e.g. $Y=\\beta_0+\\beta_1 X_1+\\beta_2 X_2+ \\beta_3 (X_1 X_2)=\n",
    "\\beta_0+(\\beta_1+\\beta_3 X_2)X_1+\\beta_2 X_2$</p>\n",
    "<h3>Hierarchy Priciple</h3>\n",
    "<p>If we include an interaction in a model, we should also include the main effects, even if the p-value associated with their coefficients are not significant.</p>\n",
    "<p>interactions are hard to interpret without main effects.</p>\n",
    "<p>Can also work on qualitative variables (student status)</p>\n",
    "\n",
    "<h2>Non-linear Variables</h2>\n",
    "<p>$Y=\\beta_0+\\beta_1 X_1 + \\beta_2 X_1^2$</p>"
   ]
  },
  {
   "cell_type": "markdown",
   "metadata": {},
   "source": [
    "<h2>Classification: Logistic Regression</h2>\n",
    "<p>qualitative response, Y</p>\n",
    "<p>$p(X)=\\frac{e^{\\beta_0+\\beta_1 X}}{1+e^{\\beta_0+\\beta_1 X}}$, acts as a probability between 0 and 1. Same as $\\log(\\frac{p(X)}{1-p(X)})=\\beta_0+\\beta_1 X$</p>\n",
    "<p>Maximize Likelihood to estimate parameters: $\\prod_i p(x_i) \\prod_i (1-p(x_i))$</p>\n",
    "<p>Likelihood gives probability of the observed zeros and ones in the data.</p>\n",
    "<h2>Multivariable Logistic Regression</h2>\n",
    "<p>$p(X)=\\frac{e^{\\beta_0+\\beta_1 X+...+\\beta_p X_p}}{1+e^{\\beta_0+\\beta_1 X+...+\\beta_p X_p}}$</p>\n",
    "<p>If you have correlated variables, you can get negative coefficients.</p>\n",
    "\n",
    "<h2>Case Control Sampling</h2>\n",
    "<p>Our sample has probability of outcome Y at $\\hat{\\pi}$.  In the population, the probability is $\\pi$.  We correct with $\\hat{\\beta}^*_0=\\hat{\\beta}_0+\\log\\frac{\\pi}{1-\\pi}-\\log\\frac{\\hat{\\pi}}{1-\\hat{\\pi}}$</p>\n",
    "\n",
    "<h2>Logistic Regression with multiple classes</h2>\n",
    "<p>$P(Y=k|X)=e^{\\beta_{0k}+\\beta_{1k}X_1+...+\\beta_{pk}X_p}/\\sum^K_l e^{\\beta_{0l}+\\beta_{1l}X_1+...+\\beta_{pl}X_p}$</p>"
   ]
  },
  {
   "cell_type": "markdown",
   "metadata": {},
   "source": [
    "<h2>ROC (Receiver Operating Characteristic) curves and Threshold Shifting</h2>\n",
    "<p>Default threshold is P=0.5</p>\n",
    "<img src='threshold.png'>\n",
    "<img src='roc.png'>"
   ]
  },
  {
   "cell_type": "markdown",
   "metadata": {},
   "source": [
    "<h1>LDA vs Logistic Regression</h1>\n",
    "<h2>Logistic Regression</h2>\n",
    "<ul>\n",
    "<li>conditional likelihood based on Pr(Y|X)</li>\n",
    "<li>discriminative learning</li>\n",
    "</ul>\n",
    "\n",
    "<h2>LDA</h2>\n",
    "<ul>\n",
    "<li>full likelihood based on Pr(X,Y)</li>\n",
    "<li>generative learning</li>\n",
    "</ul>"
   ]
  },
  {
   "cell_type": "markdown",
   "metadata": {},
   "source": [
    "<h1>Cross-validation and Bootstrap</h1>\n",
    "<h2>Resample Methods</h2>\n",
    "<p>Used mostly for calculating error, standard deviation and bias.</p>\n",
    "\n",
    "<p>training error vs test error: test error on test set and training error on training set.  training error underestimates testing error.</p>\n",
    "<img src='traingTestSet.png'>"
   ]
  },
  {
   "cell_type": "markdown",
   "metadata": {},
   "source": [
    "<h1>K-fold Cross Validation: avoids problems of training-testing set split</h1>\n",
    "<p>randomly divide into K equal parts.  Leave out part k and model with K-1 parts.  Done for k=1,2,...,K and combine results</p>\n",
    "\n",
    "<p>$CV_{(K)}=\\sum^K_{k=1}\\frac{n_k}{n}MSE_k$ where $MSE_k=\\sum_{i=C_k}(y_i-\\hat{y}_i)^2/n_k$</p>\n",
    "<h3>Cross-Validation for Classification Problems</h3>\n",
    "<p>$CV_k=\\sum^K_{k=1}\\frac{n_k}{n}Err_k$ where $Err_k=\\sum_{i=C_k}I(y_i\\neq \\hat{y}_i)/n_k$</p>\n",
    "<p>Estimated standard error of CV_k: $\\hat{SE}(CV_K)=\\sqrt{\\sum^K_{k=1}(Err_k-\\bar{Err_k})^2/(K-1)}$</p>\n",
    "<p>example: 5000 predictors and 50 samples.  Find 100 predictors with largest correlation.  Then apply logistic regression using 100 predictors.</p>\n",
    "\n",
    "<p>Questions: Can we apply cross-validation in forgetting that we down selected?</p>\n",
    "\n",
    "<p>No; this is cherry picking</p>\n",
    "\n",
    "<img src='wrong.png'>\n",
    "<img src='right.png'>"
   ]
  },
  {
   "cell_type": "markdown",
   "metadata": {},
   "source": [
    "<h1>Bootstrapping</h1>\n",
    "<p>example: Want to invest fraction $\\alpha$ of money.  Minimize variance Var($\\alpha X+(1-\\alpha)Y$)</p>\n",
    "\n",
    "<p>Minimize when: $\\alpha=\\frac{\\sigma_Y^2-\\sigma_{XY}}{\\sigma_X^2+\\sigma_Y^2-2\\sigma_{XY}}$</p>\n",
    "\n",
    "<p>Do not know population numbers but can estimate the  sample numbers to calculate $\\alpha$.  Can create multiple populations and calculate $\\alpha$ multiple times.  Sampling with replacement is bootstraping.</p>\n",
    "\n",
    "<h2>Bootstrap in general</h2>\n",
    "\n",
    "<p>For time series data: Block bootstrap into blocks of time.</p>\n",
    "\n",
    "<p>k fold validation has no overlap.  Can not use bootstrap for estimate prediction error because of overlap of samples.</p>"
   ]
  },
  {
   "cell_type": "markdown",
   "metadata": {},
   "source": [
    "<h1>Feature Reduction</h1>\n",
    "<ul>\n",
    "<li>Subset Selection: id subset strongest relationship to response\n",
    "<ul>\n",
    "    <li>All Combinations of Subsets $2^p$ models</li>\n",
    "    <li>Forward Selection $1+p(p-1)/2$ models</li>\n",
    "    <li>Backward Selection $1+p(p-1)/2$ models</li>\n",
    "</ul></li>\n",
    "<li>Shrinkage/Regularization: coefficients are shrunk towards zero\n",
    "<ul>\n",
    "    <li>Ridge Regression</li>\n",
    "    <li>Lasso</li>\n",
    "</ul>\n",
    "</li>\n",
    "<li>Dimension Reduction: project predictors onto subspace.  Projections are used as predictors.\n",
    "<ul>\n",
    "    <li>PCA</li>\n",
    "</ul>\n",
    "</li>\n",
    "</ul>"
   ]
  },
  {
   "cell_type": "markdown",
   "metadata": {},
   "source": [
    "<img src='subset.png'>\n",
    "<p>trouble with subset selection\n",
    "<ul>\n",
    "<li>subset space is large</li>\n",
    "<li>potential to overfit</li>\n",
    "</ul>\n",
    "</p>"
   ]
  },
  {
   "cell_type": "markdown",
   "metadata": {},
   "source": [
    "<h2>Forward Stepwise Selection</h2>\n",
    "<p>add predictor one at a time.  keep the one with the greatest additional imporvement.</p>\n",
    "<img src='forward.png'>\n",
    "<h2>Backward Stepwise Selection</h2>\n",
    "<p>Remove predictors from every predictor used.  Requires nubmer of samples be larger than the number of variables.</p>\n",
    "<img src='backward.png'>"
   ]
  },
  {
   "cell_type": "markdown",
   "metadata": {},
   "source": [
    "<h2>Estimating Test Error: 2 approaches</h2>\n",
    "<h3>$C_p$, AIC, BIC (Bayesian Information Criterian), Adjusted R^2</h3>\n",
    "<img src='cp.png'>\n",
    "<h3>Bayesian Information Criterian</h3>\n",
    "<p>$BIC=\\frac{1}{n}(RSS+\\log (n)d\\hat{\\sigma}^2)$</p>\n",
    "<p>log n vs 2 for BIC vs AIC: BIC will choose smaller model than AIC.</p>\n",
    "<h3>Adjusted R^2</h3>\n",
    "<p>Adjusted R^2=$1-\\frac{RSS/(n-d-1)}{TSS/(n-1)}$ where TSS is total sum of squares</p>"
   ]
  },
  {
   "cell_type": "markdown",
   "metadata": {},
   "source": [
    "<h2>Shrinkage Methods</h2>\n",
    "<p>Shink coefficients to zero; </p>\n",
    "<h3>Ridge Regression</h3>\n",
    "<p>minimize a modified least square formula:\n",
    "$\\sum^n_{i=1} (y_i-\\beta_0-\\sum_{j=1}^P \\beta_j x_{ij})^2+\\lambda \\sum_{j=1}^P \\beta_j^2=RSS+\\lambda \\sum^P_{j=1}\\beta_j^2$ where $\\lambda is a tuning parameter$</p>\n",
    "<p>If $\\lambda$ large, the coefficients need to be small. (But does not go to zero)</p>\n",
    "<p>Coefficient scalling matters! Standardize the predictors:   $\\bar{x}_{ij}=\\frac{x_{ij}}{\\sqrt{\\frac{1}{n}\\sum^n_{i=1}(x_{ij}-\\bar{x_j})^2}}$</p>\n",
    "<img src='biasVarLambda.png'>\n",
    "<p>As $\\lambda$ increases, least square decreases and then increases.  Also, variance decreases and bias increases.</p>\n",
    "<h3>Lasso</h3>\n",
    "<p>$\\sum^n_{i=1} (y_i-\\beta_0-\\sum_{j=1}^P \\beta_j x_{ij})^2+\\lambda \\sum_{j=1}^P |\\beta_j|=RSS+\\lambda \\sum^P_{j=1}|\\beta_j|$</p>\n",
    "<p>Set coefficients to zero: sparcity</p>\n",
    "<img src='biasVarLassoRidge.png'>\n",
    "<h3>Choosing $\\lambda$ parameter</h3>\n",
    "<p>Calculate cross validation error.  Choose lambda with smallest error.</p>"
   ]
  },
  {
   "cell_type": "markdown",
   "metadata": {},
   "source": [
    "<h2>Dimension Reduction Methods</h2>\n",
    "<p>Fit on linear combinations</p>\n",
    "<p>New predictors: $Z_m=\\sum^p_{j=1} \\phi_{mj}X_j$</p>\n",
    "<p>Fit Linear regression model on: $y_i=\\theta_0+\\sum^M_{m=1}\\theta_m z_{im}+\\epsilon_i$, $i=1,...,n$</p>\n",
    "<h3>Pricipal Component Regression</h3>\n",
    "<p>First pricipal component has the most variance.  Second has the largest variance uncorrelated with the first component.</p>\n",
    "<img src='biasVarPCA.png'>"
   ]
  },
  {
   "cell_type": "markdown",
   "metadata": {},
   "source": [
    "<h2>Mining Massive Datasets</h2>\n",
    "<h3>Finding similar sets</h3>\n",
    "<p>With large data set, can not do pairwise comparisons</p>\n",
    "<h4>applications</h4>\n",
    "<ul>\n",
    "<li>pages w/ similar words, topic classification</li>\n",
    "<li>similar users for recommendation systems</li>\n",
    "<li>movies with similar sets of fans</li>\n",
    "<li>Entity resolution (duplicate addresses, same user with different accounts)</li>\n",
    "</ul>\n",
    "\n",
    "<h4>text applications</h4>\n",
    "<ul>\n",
    "<li>Mirror sites: search should not show both</li>\n",
    "<li>Plagiarism detection</li>\n",
    "<li>Similar news articles on many sites</li>\n",
    "</ul>\n",
    "\n",
    "<h4>definitions</h4>\n",
    "<ul><li>Shingling: convert documents, emails,... to sets</li>\n",
    "<li>Minhashing: convert large sets to short signatures, while preserving similarity</li>\n",
    "<li>Locality-sensitvie hashing: focus on pairs of signatures likely to be similar</li>\n",
    "</ul>\n",
    "\n",
    "<img src=\"similarSetFlow.png\">"
   ]
  },
  {
   "cell_type": "markdown",
   "metadata": {},
   "source": [
    "<h3>Shingles</h3>\n",
    "<p>A k-shingle or k-gram is sequence of k characters in document</p>\n",
    "<p>example: k-2; doc=abcab: set of 2-shingles={ab,bc,ca}</p>\n",
    "<p>compression: hash to tokens</p>"
   ]
  },
  {
   "cell_type": "markdown",
   "metadata": {},
   "source": [
    "<h3>Minhashing</h3>\n",
    "<h4>Jaccard Similarity: intersection of two sets divided by union</h4>\n",
    "<p>$Sim(C_1,C_2)=|C_1\\cap C_2|/|C_1\\cup C_2|$</p>\n",
    "<h4>Boolean Matrices</h4>\n",
    "<p>Rows=elements of universal set</p>\n",
    "<p>Columns=sets</p>\n",
    "<p>Column similarity: Jaccard similarity of stes of their rows w/ 1</p>\n",
    "<p>matrix is usually sparse (books vs. customers)</p>\n",
    "\n",
    "<h4>Minhashing</h4>\n",
    "<p>minhash function: $h(C)=$ number of first row in which column C has 1</p>\n",
    "<p>Use several independent hash functions to create unique signature.</p>\n",
    "<h5>Signature matrix: columns are sets, rows are minhash values</h5>\n",
    "<img src=\"minhashEx.png\">\n",
    "\n",
    "<h3>Why do this?</h3>\n",
    "<p>probability that $h(C_1)=h(C_2)$ is the same as $Sim(C_1,C_2)$</p>\n",
    "<p>Minhashing only tracks the minimum hash table value.\n",
    "</p>"
   ]
  },
  {
   "cell_type": "markdown",
   "metadata": {},
   "source": [
    "<h3>Locality-Sensitive Hashing</h3>\n",
    "<p>Generate from collection of elements, a small list of candidate pairs: pairs of elements whose similarity must be evaluated.</p>\n",
    "<p>For signature matices: hash columns to buckets, make elements of same bucket candidate pairs</p>\n",
    "<p>Candidate pairs of signature matrix M if M(i,c)=M(i,d) for at least fraction t values of i.</p>\n",
    "<p>Candidate pairs hash at least once to same bucket.</p>\n",
    "<img src=\"LSH.png\">"
   ]
  },
  {
   "cell_type": "markdown",
   "metadata": {},
   "source": [
    "<ul>\n",
    "<li>Divide into b bands of r rows</li>\n",
    "<li>for each band, hash its portion of each colum to hash table with k buckets (k as large as possible)</li>\n",
    "<li>Candidate column pars hash to same bucket for at least one band.</li>\n",
    "<li>tune b and r to catch most similar pairs, few nonsimilar pairs</li>\n",
    "</ul>\n",
    "<img src=\"bbandsrrows.png\">"
   ]
  },
  {
   "cell_type": "markdown",
   "metadata": {},
   "source": [
    "<h3>Examples</h3>\n",
    "<h4>Entity resolution: determine which records refer to same entity.</h4>\n",
    "<h4>Fingerprint matching</h4>\n",
    "<p>grid with 1 where there is minutiae</p>\n",
    "<h4>Finding duplicate articles</h4>"
   ]
  },
  {
   "cell_type": "markdown",
   "metadata": {},
   "source": [
    "<h3>Distance Measurements</h3>\n",
    "<p>Euclidean space: real valued dimensions and \"dense\" points.</p>\n",
    "<p>Non-euclidean: properties of points, not \"location\"</p>\n",
    "<p>properties</p>\n",
    "<ul>\n",
    "<li>$d(x,y)\\geq0$</li>\n",
    "<li>$d(x,y)=0$ iff $x=y$</li>\n",
    "<li>$d(x,y)=d(y,x)$</li>\n",
    "<li>$d(x,y)\\geq d(x,z)+d(z,y)$</li>\n",
    "</ul>\n",
    "<h4>Euclidean Examples</h4>\n",
    "<h5>$L_2$ norm</h5>\n",
    "<p>$(x_1-y_1)^2+(x_2-y_2)^2+...$</p>\n",
    "<h5>$L_1$ norm</h5>\n",
    "<p>$(x_1-y_1)+(x_2-y_2)+...$</p>\n",
    "<h4>Non-Euclidean Examples</h4>\n",
    "<h5>Jacccard Distance</h5>\n",
    "<p>1 minus jaccard similarity</p>\n",
    "<h5>Cosine Distance</h5>\n",
    "<p>angle b/t vectors</p>\n",
    "<h5>Edit distance</h5>\n",
    "<p>number of edit and deletes from one string to another</p>"
   ]
  },
  {
   "cell_type": "markdown",
   "metadata": {},
   "source": [
    "<h2>Nearest Neighbor Learning</h2>\n",
    "<h3>Supervised Learning</h3>\n",
    "<p>y is real number or categorical or more complex</p>\n",
    "<p>the data is labeled.</p>\n",
    "<p>x is features</p>\n",
    "<p>upcoming: k-nearest neighbor (collaborative filtering), SVM, Decision trees</p>\n",
    "<h3>nearest neighbor</h3>\n",
    "<p>distance metric</p>\n",
    "<p>how many neighbors to look at?</p>\n",
    "<p>weighing function</p>\n",
    "<p>how to fit with local points?</p>\n",
    "<h2>Frequent Itemsets</h2>\n",
    "<h3>market basket</h3>\n",
    "<p>items are in baskets.  which are bought together?</p>\n",
    "<p>Given a support threshold s, sets of items that appear in at least s baskets are called frequent itemsets.</p>\n",
    "<p>or lots of items=documents in sentences=baskets</p>\n",
    "<p>or baskets=documents; items=words</p>"
   ]
  },
  {
   "cell_type": "markdown",
   "metadata": {},
   "source": [
    "<h2>community detection</h2>\n",
    "<h3>protein-protein interaction</h3>\n",
    "<p>nodes=protiens; edges=physical interactions: id functional modules</p>\n",
    "<p>overlapping vs. nonoverlapping communities</p>\n",
    "<h3>Community-Affiliation Model</h3>\n",
    "<img src=\"communityGraph.png\">\n",
    "<p>nodes=V, community=C, memberships=M</p>\n",
    "<p>each community c has a single probability p_c</p>\n",
    "<p>Each pair of nodes in community A, connect with probability p_A</p>\n",
    "<p>overall edge probability: $P(u,v)=1-\\prod(1-p_c)$</p>\n",
    "<p>in words: if at least 1 community says 'yes', we create a node.</p>"
   ]
  },
  {
   "cell_type": "markdown",
   "metadata": {},
   "source": [
    "<h2>AGM to BigCLAM</h2>\n",
    "<p>$F_{uA}$: the membership strength of node $u$ in community $A$</p>\n",
    "<p>Each community $A$ links nodes independently: $P_A(u,v)=1-\\exp(-F_{uA}\\cdot F_{vA})$</p>\n",
    "<img src='nodeCommunityMatrix.png'>\n",
    "<h3>probability of at least one community link C between nodes:</h3>\n",
    "<p>$P(u,v)=1-\\prod_C(1-P_c(u,v))=1-\\exp(-F_u \\cdot F_v^T)$</p>"
   ]
  },
  {
   "cell_type": "markdown",
   "metadata": {},
   "source": [
    "<h1>Time Series Analysis</h1>\n",
    "<h2>Autoregressive Models</h2>\n",
    "<p> Assume $x_t$ predicted based just on $x_{t-1}$:\n",
    "$\\hat{x}_t=a_0+a_1x_{t-1}$\n",
    "</p>\n",
    "<h2>Stationary Process</h2>\n",
    "<p>x is a function of the realization i (space) and time t: x(i,t)</p>\n",
    "<p>we can study the distribution of x_t in space</p>\n",
    "<p>each x_t has a distribution e.g. normal</p>\n"
   ]
  },
  {
   "cell_type": "code",
   "execution_count": null,
   "metadata": {
    "collapsed": true
   },
   "outputs": [],
   "source": []
  },
  {
   "cell_type": "code",
   "execution_count": 7,
   "metadata": {
    "collapsed": true
   },
   "outputs": [],
   "source": [
    "x=[73,\n",
    "  67,\n",
    "  83,\n",
    "  53,\n",
    "  78,\n",
    "  88,\n",
    "  57,\n",
    "  1,\n",
    "  29,\n",
    "  14,\n",
    "   80,\n",
    "   77,\n",
    "   19,\n",
    "   14,\n",
    "   41,\n",
    "   55,\n",
    "   74,\n",
    "   98,\n",
    "   84,\n",
    "   88,\n",
    "   78,\n",
    "   15,\n",
    "   66,\n",
    "   99,\n",
    "   80,\n",
    "   75,\n",
    "   124,\n",
    "   103,\n",
    "   57,\n",
    "   49,\n",
    "   70,\n",
    "   112,\n",
    "   107,\n",
    "   123,\n",
    "   79,\n",
    "   92,\n",
    "   89,\n",
    "   116,\n",
    "   71,\n",
    "   68,\n",
    "   59,\n",
    "   84,\n",
    "   39,\n",
    "   33,\n",
    "   71,\n",
    "   83,\n",
    "   77,\n",
    "   37,\n",
    "   27,\n",
    "   30\n",
    "  ]\n"
   ]
  },
  {
   "cell_type": "code",
   "execution_count": 95,
   "metadata": {
    "collapsed": false,
    "scrolled": true
   },
   "outputs": [
    {
     "name": "stdout",
     "output_type": "stream",
     "text": [
      "('Coefficients: \\n', array([ 0.48549302]))\n"
     ]
    },
    {
     "data": {
      "image/png": "[encoded data removed]",
      "text/plain": [
       "<matplotlib.figure.Figure at 0x10f3f5b90>"
      ]
     },
     "metadata": {},
     "output_type": "display_data"
    },
    {
     "data": {
      "text/plain": [
       "[<matplotlib.lines.Line2D at 0x10f0d5110>]"
      ]
     },
     "execution_count": 95,
     "metadata": {},
     "output_type": "execute_result"
    },
    {
     "data": {
      "image/png": "[encoded data removed]",
      "text/plain": [
       "<matplotlib.figure.Figure at 0x10f0d5290>"
      ]
     },
     "metadata": {},
     "output_type": "display_data"
    }
   ],
   "source": [
    "from sklearn import linear_model\n",
    "import numpy as np\n",
    "import matplotlib.pyplot as plt\n",
    "%matplotlib inline\n",
    "regr = linear_model.LinearRegression()\n",
    "regr.fit(np.array([[i] for i in x[0:-2]]), np.array(x[1:-1]))\n",
    "print('Coefficients: \\n', regr.coef_)\n",
    "\n",
    "plt.scatter(x[0:-2],x[1:-1],  color='black')\n",
    "x1=sorted(x[0:-2])\n",
    "plt.plot(x1, regr.predict(np.array([[i] for i in x1])), color='blue',linewidth=3)\n",
    "plt.show()\n",
    "\n",
    "plt.plot(range(len(x[0:-2])),x[1:-1])\n",
    "plt.plot(range(len(x[0:-2])),regr.predict(np.array([[i] for i in x[0:-2]])))\n"
   ]
  },
  {
   "cell_type": "markdown",
   "metadata": {},
   "source": [
    "<h2>AR(2)</h2>"
   ]
  },
  {
   "cell_type": "code",
   "execution_count": 94,
   "metadata": {
    "collapsed": false
   },
   "outputs": [
    {
     "name": "stdout",
     "output_type": "stream",
     "text": [
      "('Coefficients: \\n', array([-0.19083949,  0.57261601]))\n"
     ]
    },
    {
     "data": {
      "text/plain": [
       "[<matplotlib.lines.Line2D at 0x10ec21c10>]"
      ]
     },
     "execution_count": 94,
     "metadata": {},
     "output_type": "execute_result"
    },
    {
     "data": {
      "image/png": "[encoded data removed]",
      "text/plain": [
       "<matplotlib.figure.Figure at 0x10ec218d0>"
      ]
     },
     "metadata": {},
     "output_type": "display_data"
    }
   ],
   "source": [
    "regr = linear_model.LinearRegression()\n",
    "regr.fit(np.array([[i,j] for i,j in zip(x[0:-3],x[1:-2])]), np.array(x[2:-1]))\n",
    "print('Coefficients: \\n', regr.coef_)\n",
    "\n",
    "plt.plot(range(len(x[0:-3])),x[2:-1])\n",
    "plt.plot(range(len(x[0:-3])),regr.predict(np.array([[i,j] for i,j in zip(x[0:-3],x[1:-2])])))"
   ]
  },
  {
   "cell_type": "markdown",
   "metadata": {},
   "source": [
    "<h2>MA(1)</h2>"
   ]
  },
  {
   "cell_type": "code",
   "execution_count": 98,
   "metadata": {
    "collapsed": false
   },
   "outputs": [
    {
     "data": {
      "image/png": "[encoded data removed]",
      "text/plain": [
       "<matplotlib.figure.Figure at 0x10edac590>"
      ]
     },
     "metadata": {},
     "output_type": "display_data"
    },
    {
     "data": {
      "text/plain": [
       "[<matplotlib.lines.Line2D at 0x10efe9ed0>]"
      ]
     },
     "execution_count": 98,
     "metadata": {},
     "output_type": "execute_result"
    },
    {
     "data": {
      "image/png": "[encoded data removed]",
      "text/plain": [
       "<matplotlib.figure.Figure at 0x10f51a190>"
      ]
     },
     "metadata": {},
     "output_type": "display_data"
    }
   ],
   "source": [
    "regr = linear_model.LinearRegression()\n",
    "regr.fit([[i] for i in x[0:-2]-np.mean(x[0:-2])], np.array(x[1:-1]))\n",
    "y=regr.predict([[i] for i in x[0:-2]-np.mean(x[0:-2])])\n",
    "\n",
    "plt.scatter(x[0:-2]-np.mean(x[0:-2]),x[1:-1],  color='black')\n",
    "plt.plot(x[0:-2]-np.mean(x[0:-2]), y, color='black')\n",
    "regr.fit([[i] for i in x[0:-2]-y], np.array(x[1:-1]))\n",
    "y1=regr.predict([[i] for i in x[0:-2]-y])\n",
    "plt.scatter(x[0:-2]-y,x[1:-1],  color='red')\n",
    "plt.plot(x[0:-2]-y, y1, color='red')\n",
    "plt.show()\n",
    "\n",
    "\n",
    "plt.plot(range(len(x[0:-2])),x[1:-1])\n",
    "plt.plot(range(len(x[0:-2])),y)\n",
    "plt.plot(range(len(x[0:-2])),y1)\n",
    "       "
   ]
  },
  {
   "cell_type": "markdown",
   "metadata": {
    "collapsed": true
   },
   "source": [
    "todo\n",
    "random forest regressor\n",
    "roc curve\n",
    "ridge regression: L2\n",
    "Lasso: L1, sparse solutions\n",
    "Elastic Net: combination\n",
    "Random Forest\n",
    "Bagging\n",
    "Boosting\n",
    "Clustering\n",
    "SVM \n",
    "Neural Networks\n",
    "PCA, SVD\n",
    "Naive Bayes\n",
    "Community Detection\n",
    "Recommender Systems\n"
   ]
  },
  {
   "cell_type": "markdown",
   "metadata": {},
   "source": [
    "<h2>Naive Bayes</h2>\n",
    "<img src='naiveBayes.png'>\n",
    "<p>Bayes Formula: $P(A|h,w)=\\frac{P(A)P(h,w|A)}{P(A)P(h,w|A)+P(C)P(h,w|C)}$</p>\n",
    "<p>Naive part: P(h,w|A)=P(h|A)P(w|A)</p>\n",
    "<p>Binomial if P(h|A) is a fraction, Gaussian if P(h|A) is a normal distribution</p>\n",
    "<p>If independence is not assumed, the classification is called Discriminate Analysis in the most general form.</p>\n",
    "<h2>Quadratic Discriminate Analysis</h2>\n",
    "<p>Assumes boundaries are curved.</p>\n",
    "<img src='qda.png'>"
   ]
  },
  {
   "cell_type": "markdown",
   "metadata": {},
   "source": [
    "<h2>Bootstrap Aggregation: bagging</h2>\n",
    "<p>For b = 1, ..., B:\n",
    "Sample, with replacement, n training examples from X, Y; call these Xb, Yb.\n",
    "Train a decision or regression tree fb on Xb, Yb.\n",
    "After training, predictions for unseen samples x' can be made by averaging the predictions from all the individual regression trees on x':\n",
    "$\\hat{f} = \\frac{1}{B} \\sum_{b=1}^B \\hat{f}_b (x')$</p>"
   ]
  },
  {
   "cell_type": "markdown",
   "metadata": {},
   "source": [
    "<h2>Random Forest</h2>\n",
    "<p>Random forests differ in only one way from this general scheme: they use a modified tree learning algorithm that selects, at each candidate split in the learning process, a random subset of the features. This process is sometimes called \"feature bagging\". The reason for doing this is the correlation of the trees in an ordinary bootstrap sample: if one or a few features are very strong predictors for the response variable (target output), these features will be selected in many of the B trees, causing them to become correlated. </p>"
   ]
  },
  {
   "cell_type": "markdown",
   "metadata": {},
   "source": [
    "<h2>Boosting</h2>\n",
    "<img src='boosting.png'>\n",
    "<p>After a weak learner is added, the data is reweighted: examples that are misclassified gain weight and examples that are classified correctly lose weight. Thus, future weak learners focus more on the examples that previous weak learners misclassified.</p>"
   ]
  },
  {
   "cell_type": "markdown",
   "metadata": {},
   "source": [
    "<h2>Random Forest Regressor</h2>\n",
    "<img src='randomForestRegressor.png'>"
   ]
  },
  {
   "cell_type": "markdown",
   "metadata": {},
   "source": [
    "<h1>Recommender Systems</h1>\n",
    "<h2>Non personalized Recommenders</h2>\n",
    "<h2></h2>\n",
    "<h2></h2>\n",
    "<h2></h2>"
   ]
  }
 ],
 "metadata": {
  "kernelspec": {
   "display_name": "Python 2",
   "language": "python",
   "name": "python2"
  },
  "language_info": {
   "codemirror_mode": {
    "name": "ipython",
    "version": 2
   },
   "file_extension": ".py",
   "mimetype": "text/x-python",
   "name": "python",
   "nbconvert_exporter": "python",
   "pygments_lexer": "ipython2",
   "version": "2.7.8"
  }
 },
 "nbformat": 4,
 "nbformat_minor": 0
}
