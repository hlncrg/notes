{
 "cells": [
  {
   "cell_type": "markdown",
   "metadata": {},
   "source": [
    "<h1>Algorithms</h1>\n",
    "<p></p>"
   ]
  },
  {
   "cell_type": "markdown",
   "metadata": {},
   "source": [
    "<h2>big-Oh Analysis: Asymptotic Analysis</h2>\n",
    "<h3>One Loop: does array A contain integer t<h3>\n",
    "<p>Scan array: O(n)</p>\n",
    "<h3>Two Loops: does array A or B contain t</h3>\n",
    "<p>Scan two arrays: O(n)</p>\n",
    "<h3>Nested Loops</h3>\n",
    "<p>O(n^2)</p>\n",
    "\n",
    "<h2>Definitions</h2>\n",
    "<p>T(n)=function on n=1,2,3,... [usaually the worst-case running time of an algorthm]</p>\n",
    "\n",
    "<h3>When is T(n)=O(f(n))?</h3>\n",
    "<p>If eventually, for all sufficiently large n, T(n) is bounded above by a constant multiple of f(n)</p>\n",
    "<img src=\"TofN.png\">\n",
    "<p>T(n)=O(f(n)) iff $c,n_0 > 0$ s.t. $T(n)\\leq c \\cdot f(n)$ $\\forall$ $n\\geq n_0$<p>\n",
    "<h2>Claim: if $T(n)=a_kn^k+...+a_1 n+a_0$ Then T(n)=O(n^k)</h2>\n",
    "<p>Choose $n_0=1$ and $c=|a_k|+...+|a_1|+|a_0|$.  Then $T(n)\\leq |a_k|n^k+...|a_1|n+|a_0|\\leq|a_k|n^k+...|a_1|n^k+|a_0|n^k=c\\cdot n^k$</p>\n",
    "\n",
    "<h2>Claim: $\\forall$ $k\\geq 1$, $n^k$ is not $O(n^{k-1})$</h2>\n",
    "<p>By contradiction: assume $n^k=O(n^{k-1})$.  There exist $c,n_0>0$ s.t. $n^k\\leq c\\cdot n^{k-1}$ $\\forall$ $n\\geq n_0$.</p>\n",
    "<p>But then $n\\leq c$ $\\forall$ $n\\geq n_0$ which is clearly false</p>\n",
    "\n",
    "<h2>Definitions</h2>\n",
    "<p>$T(n)=\\Omega(f(n))$ iff $c,n_0 > 0$ s.t. $T(n)\\geq c \\cdot f(n)$ $\\forall$ $n\\geq n_0$</p>\n",
    "\n",
    "<img src=\"omegaOfN.png\">\n",
    "<h2>Theta Notation</h2>\n",
    "$T(n)=\\Theta(f(n))$ iff $T(n)=O(f(n))$ and $T(n)=\\Omega(f(n))$\n",
    "or $c_1 f(n)\\leq T(n) \\leq c_2 f(n)$\n",
    "<h2>Little O notation</h2>\n",
    "<p>$T(n)=o(f(n))$ when $T(n)\\leq c \\cdot f(n)$</p>"
   ]
  },
  {
   "cell_type": "markdown",
   "metadata": {},
   "source": [
    "<h2>Divide and Conquer</h2>\n",
    "<p>1) Divide into smaller subproblems</p>\n",
    "<p>2) Conquer via recursive calls</p>\n",
    "<p>3) Comdine solution of subproblems</p>\n",
    "<h3>array A contains numbers 1,2,3,... in arbitrary order; find number of inversions: number of pairs of array indices with $i<j$ and $A[i]>A[j]$. </h3>\n",
    "\n",
    "<p>(1,3,5,2,4,6): (3,2), (5,2), (5,4)</p>\n",
    "<p>motivation: numerical similarity b/t two ranked lists</p>\n",
    "\n",
    "<p>Brute force: O(n^2), two for loops.</p>\n",
    "<h4>Divide and Conquer</h4>\n",
    "<ul>\n",
    "<li>left inversion: $i,j\\leq n/2$</li>\n",
    "<li>right inversion: $i,j>n/2$</li>\n",
    "<li>split inversion: $i\\leq n/2<j$</li>\n",
    "</ul>\n",
    "\n",
    "<p>Recursive call both count and sort</p>\n",
    "<p>merge subroutine naturally uncovers split inversions</p>\n",
    "<p>Claim: the split inversion involving an element y of the 2nd array C are precisely the numbers left in the 1st array B when y is copied to the output D</p>\n",
    "<p>Let x be an element of B.  If x is copied to D before y then $x<y$, no inversion.  Else, inversion</p>"
   ]
  },
  {
   "cell_type": "code",
   "execution_count": 41,
   "metadata": {
    "collapsed": true
   },
   "outputs": [],
   "source": [
    "import numpy as np\n",
    "def countInversion(A):\n",
    "    n=len(A)\n",
    "    if n==1:\n",
    "        return (A,0)\n",
    "    else:\n",
    "        B,x=countInversion(A[:int(n*.5)])\n",
    "        C,y=countInversion(A[int(n*.5):])\n",
    "        D,z=countSplitInv(B,C,n)\n",
    "    return (D,x+y+z)\n",
    "def countSplitInv(B,C,n):\n",
    "    i=0\n",
    "    j=0\n",
    "    count=0\n",
    "    D=[]\n",
    "    for k in range(n):\n",
    "        if i<len(B) and j<len(C):\n",
    "            if B[i]<C[j]:\n",
    "                D.append(B[i])\n",
    "                i+=1\n",
    "            else:\n",
    "                D.append(C[j])\n",
    "                count+=len(B[i:])\n",
    "                j+=1\n",
    "        elif i<len(B):\n",
    "            D.append(B[i])\n",
    "            i+=1\n",
    "        elif j<len(C):\n",
    "            D.append(C[j])\n",
    "            j+=1\n",
    "    return (D,count)"
   ]
  },
  {
   "cell_type": "code",
   "execution_count": 42,
   "metadata": {
    "collapsed": false
   },
   "outputs": [
    {
     "data": {
      "text/plain": [
       "([1, 2, 3, 4, 5, 6], 3)"
      ]
     },
     "execution_count": 42,
     "metadata": {},
     "output_type": "execute_result"
    }
   ],
   "source": [
    "countInversion([1,3,5,2,4,6])"
   ]
  },
  {
   "cell_type": "markdown",
   "metadata": {},
   "source": [
    "<h2>Matrix Multiplications</h2>\n",
    "<p>$[X][Y]=[Z]$</p>\n",
    "<p>$z_{ij}=\\sum_{k=1}^n x_{ik}\\cdot y_{kj}$</p>\n"
   ]
  },
  {
   "cell_type": "markdown",
   "metadata": {},
   "source": [
    "<h1>Problems</h1>"
   ]
  },
  {
   "cell_type": "markdown",
   "metadata": {},
   "source": [
    "<h2>Arrays and Strings</h2>"
   ]
  },
  {
   "cell_type": "markdown",
   "metadata": {},
   "source": [
    "<h3>1.1 Implement an algorithm to determine if a string has all unique characters. What if you can not use additional data structures?</h3>\n",
    "<p>For O(n) time, and O(n) memory we would use a dictionary.  For O(n^2) and O(1) memory we use nested for loops</p>"
   ]
  },
  {
   "cell_type": "code",
   "execution_count": 45,
   "metadata": {
    "collapsed": true
   },
   "outputs": [],
   "source": [
    "def uniqueCharA(s):\n",
    "    sDic={}\n",
    "    for i in s:\n",
    "        if i in sDic.keys():\n",
    "            return False\n",
    "        else:\n",
    "            sDic[i]=1\n",
    "    return True\n",
    "def uniqueCharB(s):\n",
    "    for i in range(len(s)):\n",
    "        for j in range(len(s)):\n",
    "            if i!=j:\n",
    "                if s[i]==s[j]:\n",
    "                    return False\n",
    "    return True"
   ]
  },
  {
   "cell_type": "code",
   "execution_count": 46,
   "metadata": {
    "collapsed": false
   },
   "outputs": [
    {
     "name": "stdout",
     "output_type": "stream",
     "text": [
      "False\n",
      "False\n",
      "True\n",
      "True\n"
     ]
    }
   ],
   "source": [
    "s1='kekfkfirqqoqoe'\n",
    "s2='qwertyuiopasdfghj'\n",
    "print uniqueCharA(s1)\n",
    "print uniqueCharB(s1)\n",
    "print uniqueCharA(s2)\n",
    "print uniqueCharB(s2)"
   ]
  },
  {
   "cell_type": "markdown",
   "metadata": {},
   "source": [
    "<h3>1.2 Implement a function to reverse a string.</h3>"
   ]
  },
  {
   "cell_type": "code",
   "execution_count": 56,
   "metadata": {
    "collapsed": true
   },
   "outputs": [],
   "source": [
    "def revString(s):\n",
    "    n=len(s)\n",
    "    s2=''\n",
    "    return ''.join([s[n-i-1] for i in range(n)])\n"
   ]
  },
  {
   "cell_type": "code",
   "execution_count": 57,
   "metadata": {
    "collapsed": false
   },
   "outputs": [
    {
     "name": "stdout",
     "output_type": "stream",
     "text": [
      "eoqoqqrifkfkek\n",
      "jhgfdsapoiuytrewq\n"
     ]
    }
   ],
   "source": [
    "print revString(s1)\n",
    "print revString(s2)"
   ]
  },
  {
   "cell_type": "markdown",
   "metadata": {},
   "source": [
    "<h3>1.3 Given two strings, write a method to decide if one is a permutation of the other.</h3>"
   ]
  },
  {
   "cell_type": "markdown",
   "metadata": {},
   "source": [
    "<p>We can sort the strings and compare or we can do a character count and compare.</p>"
   ]
  },
  {
   "cell_type": "code",
   "execution_count": 66,
   "metadata": {
    "collapsed": true
   },
   "outputs": [],
   "source": [
    "def perStringSort(s1,s2):\n",
    "    return sorted(s1)==sorted(s2)\n",
    "def perStringCount(s1,s2):\n",
    "    s1Dic={}\n",
    "    s2Dic={}\n",
    "    for i in s1:\n",
    "        s1Dic[i] = s1Dic.get(i, 0) + 1\n",
    "    for i in s2:\n",
    "        s2Dic[i] = s2Dic.get(i, 0) + 1\n",
    "    return s1Dic==s2Dic"
   ]
  },
  {
   "cell_type": "code",
   "execution_count": 69,
   "metadata": {
    "collapsed": false
   },
   "outputs": [
    {
     "name": "stdout",
     "output_type": "stream",
     "text": [
      "True\n",
      "False\n",
      "True\n",
      "False\n"
     ]
    }
   ],
   "source": [
    "print perStringCount(s1,s1)\n",
    "print perStringCount(s1,s2)\n",
    "print perStringSort(s1,s1)\n",
    "print perStringSort(s1,s2)"
   ]
  },
  {
   "cell_type": "markdown",
   "metadata": {},
   "source": [
    "<h3>1.4 Write a method to replace spaces with '%20'.</h3>"
   ]
  },
  {
   "cell_type": "code",
   "execution_count": 70,
   "metadata": {
    "collapsed": true
   },
   "outputs": [],
   "source": [
    "def repSpace(s):\n",
    "    return s.replace(' ','%20')"
   ]
  },
  {
   "cell_type": "code",
   "execution_count": 71,
   "metadata": {
    "collapsed": false
   },
   "outputs": [
    {
     "name": "stdout",
     "output_type": "stream",
     "text": [
      "kekfkfir%20%20o%20oe\n"
     ]
    }
   ],
   "source": [
    "print repSpace(s1.replace('q',' '))"
   ]
  },
  {
   "cell_type": "markdown",
   "metadata": {},
   "source": [
    "<h3>1.7 Write an algorith such that if an element in an MxN matrix is 0, its entire row and column are set to 0</h3>"
   ]
  },
  {
   "cell_type": "code",
   "execution_count": 75,
   "metadata": {
    "collapsed": true
   },
   "outputs": [],
   "source": [
    "def zeroRow(M):\n",
    "    r={}\n",
    "    c={}\n",
    "    for i in range(len(M)):\n",
    "        for j in range(len(M[i][:])):\n",
    "            if M[i][j]==0:\n",
    "                r[i]=1\n",
    "                c[j]=1\n",
    "    for i in r.keys():\n",
    "        for j in range(len(M[i][:])):\n",
    "            M[i][j]=0\n",
    "    for j in c.keys():\n",
    "        for i in range(len(M[:][j])):\n",
    "            M[i][j]=0\n",
    "    return M"
   ]
  },
  {
   "cell_type": "code",
   "execution_count": 76,
   "metadata": {
    "collapsed": false
   },
   "outputs": [
    {
     "name": "stdout",
     "output_type": "stream",
     "text": [
      "[[0, 3], [0, 0]]\n"
     ]
    }
   ],
   "source": [
    "print zeroRow([[1,3],[0,9]])"
   ]
  },
  {
   "cell_type": "markdown",
   "metadata": {},
   "source": [
    "<h3>Assume you have a method isSubstring which checks if one word is a substring of another.  Given two strings, write a code to check if one is a rotation of the other using only one call to isSubstring</h3>"
   ]
  },
  {
   "cell_type": "markdown",
   "metadata": {},
   "source": [
    "<p>If s1=x+y and s2=y+x then x+y+x+y should be a substring of s2</p>"
   ]
  },
  {
   "cell_type": "markdown",
   "metadata": {},
   "source": [
    "<h2>Linked Lists</h2>"
   ]
  },
  {
   "cell_type": "markdown",
   "metadata": {},
   "source": [
    "<h3>Write a code to remove duplicates from an unsorted linked list.  How would you solve without a temporary buffer?</h3>\n",
    "\n",
    "<p>Use a hash table!: O(N) time</p>\n",
    "<p>Two pointers: O(N^2) time</p>"
   ]
  },
  {
   "cell_type": "markdown",
   "metadata": {},
   "source": [
    "<h3>Implement an algorithm to find the kth to last element of a singly linked list?</h3>\n",
    "\n",
    "<p>Can be done recursively: O(n) space</p>\n",
    "<p>Can be doene iteratively: O(n) time</p>"
   ]
  },
  {
   "cell_type": "markdown",
   "metadata": {
    "collapsed": true
   },
   "source": [
    "<h2>Moderate</h2>"
   ]
  },
  {
   "cell_type": "markdown",
   "metadata": {},
   "source": [
    "<h3>Write a function to swap a number in place</h3>"
   ]
  },
  {
   "cell_type": "code",
   "execution_count": 1,
   "metadata": {
    "collapsed": false
   },
   "outputs": [
    {
     "name": "stdout",
     "output_type": "stream",
     "text": [
      "(1, 2)\n"
     ]
    }
   ],
   "source": [
    "def swp(a,b):\n",
    "    a=a-b#diff\n",
    "    b=a+b#a\n",
    "    a=b-a#a-(a-b)\n",
    "    return a,b\n",
    "print swp(2,1)"
   ]
  },
  {
   "cell_type": "code",
   "execution_count": 2,
   "metadata": {
    "collapsed": false
   },
   "outputs": [
    {
     "name": "stdout",
     "output_type": "stream",
     "text": [
      "(1, 2)\n"
     ]
    }
   ],
   "source": [
    "def swp2(a,b):\n",
    "    a=a^b\n",
    "    b=a^b#a\n",
    "    a=a^b#b\n",
    "    return a,b\n",
    "print swp2(2,1)"
   ]
  },
  {
   "cell_type": "markdown",
   "metadata": {},
   "source": [
    "<h3>17.3 Write an algorithm which computes the number of trailing zeros in n factorial.</h3>"
   ]
  },
  {
   "cell_type": "code",
   "execution_count": 15,
   "metadata": {
    "collapsed": false
   },
   "outputs": [
    {
     "name": "stdout",
     "output_type": "stream",
     "text": [
      "2\n",
      "31\n"
     ]
    }
   ],
   "source": [
    "def fac5(n):\n",
    "    frac=n/5\n",
    "    count=1\n",
    "    while(frac>0):\n",
    "        frac=frac/5\n",
    "        if frac>0:\n",
    "            count+=1\n",
    "    tot=0\n",
    "    for a in range(count):\n",
    "        tot+=n/pow(5,(a+1))\n",
    "    print tot\n",
    "fac5(12)\n",
    "fac5(125)"
   ]
  },
  {
   "cell_type": "markdown",
   "metadata": {},
   "source": [
    "<h3>17.12 Design an algorithm to find all pairs of integers within an array which sum to a specified value.</h3>"
   ]
  },
  {
   "cell_type": "code",
   "execution_count": null,
   "metadata": {
    "collapsed": true
   },
   "outputs": [],
   "source": [
    "def findSum(arr,n):\n",
    "    dic={}\n",
    "    for i in range(len(arr)):\n",
    "        "
   ]
  }
 ],
 "metadata": {
  "kernelspec": {
   "display_name": "Python 2",
   "language": "python",
   "name": "python2"
  },
  "language_info": {
   "codemirror_mode": {
    "name": "ipython",
    "version": 2
   },
   "file_extension": ".py",
   "mimetype": "text/x-python",
   "name": "python",
   "nbconvert_exporter": "python",
   "pygments_lexer": "ipython2",
   "version": "2.7.8"
  }
 },
 "nbformat": 4,
 "nbformat_minor": 0
}
