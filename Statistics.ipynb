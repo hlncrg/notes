{
 "cells": [
  {
   "cell_type": "markdown",
   "metadata": {},
   "source": [
    "<h1>Hypothesis Testing</h1>\n",
    "<p>In the simplest form of hypothesis testing, there is a hypothesis ($H$) and a null hypothsis ($H_0$).</p>\n",
    "<h2>Measures of correctness</h2>\n",
    "false positives\n",
    "true negatives\n",
    "<h3>sensitivity/recall/power</h3>\n",
    "specifity\n",
    "precision\n",
    "beyond hypothsis testing\n"
   ]
  },
  {
   "cell_type": "markdown",
   "metadata": {
    "collapsed": false
   },
   "source": [
    "<h2>Anova</h2>\n",
    "<p>As doing multiple two-sample t-tests would result in an increased chance of committing a statistical type I error, ANOVAs are useful for comparing (testing) three or more means (groups or variables) for statistical significance.</p>\n",
    "<p>$F=$ variance between treatment / variance within treatment</p>\n",
    "<img src='anova.png'>\n",
    "<h3>$H_0$: the distributions come from the same distribution.</h3>\n",
    "<p>Null is rejected if variance between is large.</p>\n",
    "<p>$$F=\\frac{\\sum_i n_i (\\bar{Y}_i-\\bar{Y})^2 / (K-1)}{\\sum_{ij} (Y_{ij}-\\bar{Y}_i)^2/(N-K)}$$</p>\n",
    "<p>K is number of groups, N is total number of samples, $n_i$ is number of samples in group i.<p>"
   ]
  },
  {
   "cell_type": "code",
   "execution_count": null,
   "metadata": {
    "collapsed": true
   },
   "outputs": [],
   "source": [
    "T-test\n",
    "p-value\n",
    "R^2\n",
    "QQ plot\n",
    "KS test\n",
    "bootstrap\n",
    "jack-knife\n",
    "ROC curves"
   ]
  }
 ],
 "metadata": {
  "kernelspec": {
   "display_name": "Python 2",
   "language": "python",
   "name": "python2"
  },
  "language_info": {
   "codemirror_mode": {
    "name": "ipython",
    "version": 2
   },
   "file_extension": ".py",
   "mimetype": "text/x-python",
   "name": "python",
   "nbconvert_exporter": "python",
   "pygments_lexer": "ipython2",
   "version": "2.7.8"
  }
 },
 "nbformat": 4,
 "nbformat_minor": 0
}
